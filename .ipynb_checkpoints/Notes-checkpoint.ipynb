{
 "cells": [
  {
   "cell_type": "markdown",
   "metadata": {},
   "source": [
    "## Hospital Capacity Modeller\n",
    "\n",
    "\"Boarding\" - Dr admits patient but does not leave the E.D., emergency compenent complete. In patient happens in the ED. Lag time between ER dr order and inpatient transition. \n",
    "\n",
    "Discharge Boarding - time between decision and patient actually leaving. \n",
    "\n",
    "________________\n",
    "\n",
    "Boarding has increased across the country in the last decade. Not clear why.\n",
    "\n",
    "Search for articles and theories. \n",
    "\n",
    "Hospitals do not run at maximize capacity on average. \n",
    "\n",
    "\n",
    "Planned - elective\n",
    "Unplanned - coming thru ED\n",
    "\n",
    "\"smoothing of surgical schedule\" \n",
    "\n",
    "COVID caused a shut down of electives and boarding dropped off\n",
    "\n"
   ]
  },
  {
   "cell_type": "markdown",
   "metadata": {},
   "source": [
    "Over 100% - boarding in ED - loss of revenue\n",
    "Under 60% - \n",
    "\n",
    "\n",
    "### Cost of boarding?\n",
    "- Stacking patients: planned and unplanned\n",
    "- \n",
    "\n",
    "\n",
    "\n",
    "### Changes\n",
    "- Adjust current model - week hours (24 x 7) instead of 24\n",
    "- Admission profiles: planned vs unplanned\n",
    "- Length of stay\n",
    "\n",
    "\n",
    "\n"
   ]
  },
  {
   "cell_type": "code",
   "execution_count": null,
   "metadata": {},
   "outputs": [],
   "source": []
  }
 ],
 "metadata": {
  "kernelspec": {
   "display_name": "Python 3",
   "language": "python",
   "name": "python3"
  },
  "language_info": {
   "codemirror_mode": {
    "name": "ipython",
    "version": 3
   },
   "file_extension": ".py",
   "mimetype": "text/x-python",
   "name": "python",
   "nbconvert_exporter": "python",
   "pygments_lexer": "ipython3",
   "version": "3.8.5"
  },
  "toc": {
   "base_numbering": 1,
   "nav_menu": {},
   "number_sections": true,
   "sideBar": true,
   "skip_h1_title": false,
   "title_cell": "Table of Contents",
   "title_sidebar": "Contents",
   "toc_cell": false,
   "toc_position": {},
   "toc_section_display": true,
   "toc_window_display": false
  }
 },
 "nbformat": 4,
 "nbformat_minor": 2
}
