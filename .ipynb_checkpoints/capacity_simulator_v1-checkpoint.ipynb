{
 "cells": [
  {
   "cell_type": "markdown",
   "metadata": {},
   "source": [
    "# Hospital Capacity Simulator"
   ]
  },
  {
   "cell_type": "code",
   "execution_count": 1,
   "metadata": {},
   "outputs": [],
   "source": [
    "%matplotlib inline\n",
    "\n",
    "import numpy as np\n",
    "import pandas as pd\n",
    "import matplotlib.pyplot as plt\n",
    "import seaborn as sns\n",
    " \n",
    "from numpy import random\n",
    "from ipywidgets import interact, Layout, Button, Box, FloatText, Textarea, Dropdown, Label, IntSlider, DatePicker, interactive\n",
    "from ipywidgets import FloatSlider, HBox, VBox, Output\n",
    "from IPython.display import display"
   ]
  },
  {
   "cell_type": "markdown",
   "metadata": {},
   "source": [
    "## Patient Data Generator"
   ]
  },
  {
   "cell_type": "markdown",
   "metadata": {},
   "source": [
    "#### Select Date Range:"
   ]
  },
  {
   "cell_type": "code",
   "execution_count": 2,
   "metadata": {},
   "outputs": [],
   "source": [
    "start = DatePicker( description='Start:', disabled=False)\n",
    "end = DatePicker(description='End:', disabled=False)"
   ]
  },
  {
   "cell_type": "code",
   "execution_count": 42,
   "metadata": {},
   "outputs": [],
   "source": [
    "dates_form = Box([HBox([start, end])], \n",
    "                 layout=Layout(display='flex', \n",
    "                      flex_flow='row',\n",
    "                      border='solid 1px',\n",
    "                      height='100px',\n",
    "                      align_items='center', \n",
    "                      width='75%'))"
   ]
  },
  {
   "cell_type": "code",
   "execution_count": 43,
   "metadata": {},
   "outputs": [
    {
     "data": {
      "application/vnd.jupyter.widget-view+json": {
       "model_id": "e41f6872f9934d039ec657a6b9e5dae3",
       "version_major": 2,
       "version_minor": 0
      },
      "text/plain": [
       "Box(children=(HBox(children=(DatePicker(value=datetime.date(2020, 9, 2), description='Start:'), DatePicker(val…"
      ]
     },
     "metadata": {},
     "output_type": "display_data"
    }
   ],
   "source": [
    "display(dates_form)"
   ]
  },
  {
   "cell_type": "markdown",
   "metadata": {},
   "source": [
    "#### Define Stats:"
   ]
  },
  {
   "cell_type": "code",
   "execution_count": 7,
   "metadata": {},
   "outputs": [],
   "source": [
    "def f(Percent): return\n",
    "def b(Total): return\n",
    "def p(Mean, STD): return"
   ]
  },
  {
   "cell_type": "code",
   "execution_count": 8,
   "metadata": {},
   "outputs": [],
   "source": [
    "num_beds = interactive(b, Total=IntSlider(value=312, min=100, max=500));\n",
    "\n",
    "plan = interactive(p, Mean=FloatSlider(value=36.0, min=0.0, max=120.0, step=0.5), \n",
    "                 STD=FloatSlider(value=8.0, min=0.0, max=60.0, step=0.5));\n",
    "\n",
    "unplan = interactive(p, Mean=FloatSlider(value=48.0, min=0.0, max=120.0, step=0.5), \n",
    "                 STD=FloatSlider(value=12.0, min=0.0, max=60.0, step=0.5));\n",
    "\n",
    "unplan_adm_rate = interactive(f, Percent=FloatSlider(value=.3, min=0.0, max=1.0, step=0.05));"
   ]
  },
  {
   "cell_type": "code",
   "execution_count": 52,
   "metadata": {},
   "outputs": [
    {
     "data": {
      "application/vnd.jupyter.widget-view+json": {
       "model_id": "29b8112a2c8c47ec869ce974674c0c41",
       "version_major": 2,
       "version_minor": 0
      },
      "text/plain": [
       "Box(children=(VBox(children=(Label(value='Total Beds:'), interactive(children=(IntSlider(value=312, descriptio…"
      ]
     },
     "metadata": {},
     "output_type": "display_data"
    }
   ],
   "source": [
    "form_item_layout = Layout(display='flex', flex_flow='row', justify_content='flex-start')\n",
    "\n",
    "form_items = [VBox([Label('Total Beds:'), num_beds, Label('Planned LOS:'), plan, Label('Unplanned LOS:'), unplan,\n",
    "                   Label('Unplanned Admission Rate:'), unplan_adm_rate])]\n",
    "\n",
    "stats_form = Box(form_items, layout=Layout(\n",
    "    display='flex',\n",
    "    flex_flow='column',\n",
    "    border='solid 1px',\n",
    "    align_items='flex-start',\n",
    "    width='75%'))\n",
    "\n",
    "display(stats_form)"
   ]
  },
  {
   "cell_type": "markdown",
   "metadata": {},
   "source": [
    "### Generate Patient Data"
   ]
  },
  {
   "cell_type": "code",
   "execution_count": 84,
   "metadata": {},
   "outputs": [],
   "source": [
    "def b(mean_bias): return\n",
    "def c(std_bias): return"
   ]
  },
  {
   "cell_type": "code",
   "execution_count": 85,
   "metadata": {},
   "outputs": [],
   "source": [
    "plan_mean_bias = interactive(b, mean_bias=FloatSlider(value=0.0, min=-10.0, max=10.0, step=0.5))\n",
    "\n",
    "plan_std_bias = interactive(c, std_bias=FloatSlider(value=0.0, min=-10.0, max=10.0, step=0.5))\n",
    "\n",
    "unplan_mean_bias = interactive(b, mean_bias=FloatSlider(value=0.0, min=-10.0, max=10.0, step=0.5))\n",
    "\n",
    "unplan_std_bias = interactive(c, std_bias=FloatSlider(value=0.0, min=-10.0, max=10.0, step=0.5))"
   ]
  },
  {
   "cell_type": "code",
   "execution_count": 93,
   "metadata": {},
   "outputs": [
    {
     "data": {
      "application/vnd.jupyter.widget-view+json": {
       "model_id": "bf5452969ce34295a62a63899dbaa8ba",
       "version_major": 2,
       "version_minor": 0
      },
      "text/plain": [
       "Box(children=(VBox(children=(Label(value='Planned:'), interactive(children=(FloatSlider(value=2.5, description…"
      ]
     },
     "metadata": {},
     "output_type": "display_data"
    }
   ],
   "source": [
    "bias_form_item_layout = Layout(display='flex', flex_flow='row', justify_content='flex-start')\n",
    "\n",
    "bias_form_items = [\n",
    "    \n",
    "    VBox([Label('Planned:'), plan_mean_bias, plan_std_bias ]),\n",
    "    VBox([Label('Unplanned:'), unplan_mean_bias, unplan_std_bias]),\n",
    "]\n",
    "\n",
    "bias_form = Box(bias_form_items, layout=Layout(\n",
    "    display='flex',\n",
    "    flex_flow='column',\n",
    "#     height=\"250px\",\n",
    "    border='solid 1px',\n",
    "    align_items='stretch',\n",
    "    width='75%'\n",
    "))\n",
    "\n",
    "display(bias_form)"
   ]
  },
  {
   "cell_type": "code",
   "execution_count": 75,
   "metadata": {},
   "outputs": [],
   "source": [
    "plan_hrly_means = np.array([[0.2, 0.2, 0.2, 0.2, 0.2, 3.5, 8, 13, 15, 15, 12, 11, 13, 12, 12, 11, 9, 6, 3, 1, \n",
    "                             0.2, 0.2, 0.2, 0.2]]).T\n",
    "\n",
    "plan_hrly_std = np.array([[2.5, 2.1, 1.7, 1.6, 1.4, 1.35, 1.2, 3.5, 4.9, 5.7, 5.5, 4.4, 4.6, 4.8, 4.7, 4.6, 4.3, 4.2, 4.3, \n",
    "                            5, 5.5, 4.2, 3.3, 2.9]]).T\n",
    "\n",
    "unplan_hrly_means = np.array([2.5, 2.1 ,1.7, 1.6, 1.4, 1.35, 1.2, 3.5, 4.9, 5.7, 5.5, 4.4, 4.6, 4.8, 4.7, 4.6, 4.3, 4.2, 4.3, 5,\n",
    "                         5.5, 4.2, 3.3, 2.9])\n",
    "\n",
    "unplan_hrly_std = np.array([0.05, 0.05, 0.05, 0.05, 0.05, 0.875, 1.5, 3, 2.75, 2.5, 3.25, 3.25, 3, 2.75, 3, 1.75, 2, 1, 0.75, 0.25, \n",
    "                        0.05, 0.05, 0.05, 0.05])"
   ]
  },
  {
   "cell_type": "code",
   "execution_count": 101,
   "metadata": {},
   "outputs": [],
   "source": [
    "def gen_day(hrly_means, bias, rate=None):\n",
    "    if rate:\n",
    "        return [int(random.poisson(lam=m.item())*rate) for m in hrly_means + bias]\n",
    "    else: \n",
    "        return [random.poisson(lam=m.item()) for m in hrly_means + bias]"
   ]
  },
  {
   "cell_type": "markdown",
   "metadata": {},
   "source": [
    "#### Example Days"
   ]
  },
  {
   "cell_type": "code",
   "execution_count": 104,
   "metadata": {},
   "outputs": [],
   "source": [
    "def plot_one_day():\n",
    "    for i in range(1):\n",
    "        ax = sns.barplot(x=np.arange(0,24,1), y=gen_day(plan_hrly_means, plan_mean_bias.kwargs['mean_bias']));\n",
    "        ax.set(xlabel='Hour of the Day', ylabel='# of Patients')\n",
    "        ax.set_title(\"Random Planned Admissions per Hour\")\n",
    "        plt.show();\n",
    "    \n",
    "    for i in range(1):\n",
    "        ax = sns.barplot(x=np.arange(0,24,1), \n",
    "                         y=gen_day(unplan_hrly_means, unplan_mean_bias.kwargs['mean_bias'], unplan_adm_rate.kwargs['Percent']));\n",
    "        ax.set(xlabel='Hour of the Day', ylabel='# of Patients')\n",
    "        ax.set_title(\"Random Unplanned Admissions per Hour\")\n",
    "        plt.show();"
   ]
  },
  {
   "cell_type": "code",
   "execution_count": 21,
   "metadata": {},
   "outputs": [],
   "source": [
    "def days(start, end):\n",
    "    delta = end.value - start.value\n",
    "    return delta.days"
   ]
  },
  {
   "cell_type": "code",
   "execution_count": 23,
   "metadata": {},
   "outputs": [],
   "source": [
    "# start.value.isoweekday()"
   ]
  },
  {
   "cell_type": "code",
   "execution_count": null,
   "metadata": {},
   "outputs": [],
   "source": [
    "# end.value.isoweekday()"
   ]
  },
  {
   "cell_type": "code",
   "execution_count": 109,
   "metadata": {},
   "outputs": [
    {
     "data": {
      "application/vnd.jupyter.widget-view+json": {
       "model_id": "b31751a0cc564130af9e8aa06c96c78b",
       "version_major": 2,
       "version_minor": 0
      },
      "text/plain": [
       "Button(description='Generate Data', style=ButtonStyle())"
      ]
     },
     "metadata": {},
     "output_type": "display_data"
    },
    {
     "data": {
      "application/vnd.jupyter.widget-view+json": {
       "model_id": "ef04d948a8ae4de6a1d0dc79624ece1a",
       "version_major": 2,
       "version_minor": 0
      },
      "text/plain": [
       "Output()"
      ]
     },
     "metadata": {},
     "output_type": "display_data"
    }
   ],
   "source": [
    "button = Button(description=\"Generate Data\")\n",
    "output = Output()\n",
    "\n",
    "display(button, output)"
   ]
  },
  {
   "cell_type": "code",
   "execution_count": 110,
   "metadata": {},
   "outputs": [],
   "source": [
    "def on_button_clicked(b):\n",
    "    output.clear_output()\n",
    "    with output:\n",
    "        plot_one_day()\n",
    "\n",
    "button.on_click(on_button_clicked)"
   ]
  },
  {
   "cell_type": "code",
   "execution_count": null,
   "metadata": {},
   "outputs": [],
   "source": []
  },
  {
   "cell_type": "code",
   "execution_count": null,
   "metadata": {},
   "outputs": [],
   "source": []
  },
  {
   "cell_type": "code",
   "execution_count": null,
   "metadata": {},
   "outputs": [],
   "source": []
  },
  {
   "cell_type": "code",
   "execution_count": null,
   "metadata": {},
   "outputs": [],
   "source": [
    "# import networkx as nx\n",
    "\n",
    "# def random_lobster(n, m, k, p):\n",
    "#     return nx.random_lobster(n, p, p / m)\n",
    "\n",
    "# def powerlaw_cluster(n, m, k, p):\n",
    "#     return nx.powerlaw_cluster_graph(n, m, p)\n",
    "\n",
    "# def erdos_renyi(n, m, k, p):\n",
    "#     return nx.erdos_renyi_graph(n, p)\n",
    "\n",
    "# def newman_watts_strogatz(n, m, k, p):\n",
    "#     return nx.newman_watts_strogatz_graph(n, k, p)\n",
    "\n",
    "# def plot_random_graph(n, m, k, p, generator):\n",
    "#     g = generator(n, m, k, p)\n",
    "#     nx.draw(g)\n",
    "#     plt.show()\n",
    "\n",
    "# interact(plot_random_graph, n=(2,30), m=(1,10), k=(1,10), p=(0.0, 1.0, 0.001),\n",
    "#          generator={\n",
    "#              'lobster': random_lobster,\n",
    "#              'power law': powerlaw_cluster,\n",
    "#              'Newman-Watts-Strogatz': newman_watts_strogatz,\n",
    "#              u'Erdős-Rényi': erdos_renyi,\n",
    "#          });"
   ]
  },
  {
   "cell_type": "code",
   "execution_count": null,
   "metadata": {},
   "outputs": [],
   "source": [
    "# out = Output(layout={'border': '1px solid black'})\n",
    "# out\n",
    "\n",
    "# def run():\n",
    "#     with out:\n",
    "#         for i in range(5):\n",
    "#             print(i, 'Hello world!')\n",
    "            \n",
    "# run()"
   ]
  },
  {
   "cell_type": "code",
   "execution_count": 24,
   "metadata": {},
   "outputs": [
    {
     "data": {
      "application/vnd.jupyter.widget-view+json": {
       "model_id": "7dbab7e38fa04638818b9092e7850802",
       "version_major": 2,
       "version_minor": 0
      },
      "text/plain": [
       "Button(description='Click Me!', style=ButtonStyle())"
      ]
     },
     "metadata": {},
     "output_type": "display_data"
    },
    {
     "data": {
      "application/vnd.jupyter.widget-view+json": {
       "model_id": "a10d364089514009b8d4467f5a33ec2e",
       "version_major": 2,
       "version_minor": 0
      },
      "text/plain": [
       "Output()"
      ]
     },
     "metadata": {},
     "output_type": "display_data"
    }
   ],
   "source": [
    "# button = Button(description=\"Click Me!\")\n",
    "# output = Output()\n",
    "\n",
    "# display(button, output)\n",
    "\n",
    "# def on_button_clicked(b):\n",
    "#     with output:\n",
    "#         print(\"Button clicked.\")\n",
    "\n",
    "# button.on_click(on_button_clicked)"
   ]
  },
  {
   "cell_type": "code",
   "execution_count": 26,
   "metadata": {},
   "outputs": [
    {
     "data": {
      "application/vnd.jupyter.widget-view+json": {
       "model_id": "402e79a05c814869b5fd450939c4c71f",
       "version_major": 2,
       "version_minor": 0
      },
      "text/plain": [
       "IntSlider(value=0)"
      ]
     },
     "metadata": {},
     "output_type": "display_data"
    },
    {
     "data": {
      "application/vnd.jupyter.widget-view+json": {
       "model_id": "be20cd1b6eb845f9a8a1ed386cf923b1",
       "version_major": 2,
       "version_minor": 0
      },
      "text/plain": [
       "Output()"
      ]
     },
     "metadata": {},
     "output_type": "display_data"
    }
   ],
   "source": [
    "# int_range = IntSlider()\n",
    "# output2 = Output()\n",
    "\n",
    "# display(int_range, output2)"
   ]
  },
  {
   "cell_type": "code",
   "execution_count": null,
   "metadata": {},
   "outputs": [],
   "source": [
    "# def on_value_change(change):\n",
    "#     with output2:\n",
    "#         print(change['new'])\n",
    "\n",
    "# int_range.observe(on_value_change, names='value')"
   ]
  },
  {
   "cell_type": "code",
   "execution_count": null,
   "metadata": {},
   "outputs": [],
   "source": []
  },
  {
   "cell_type": "code",
   "execution_count": null,
   "metadata": {},
   "outputs": [],
   "source": []
  },
  {
   "cell_type": "code",
   "execution_count": null,
   "metadata": {},
   "outputs": [],
   "source": []
  },
  {
   "cell_type": "code",
   "execution_count": null,
   "metadata": {},
   "outputs": [],
   "source": []
  },
  {
   "cell_type": "code",
   "execution_count": null,
   "metadata": {},
   "outputs": [],
   "source": []
  }
 ],
 "metadata": {
  "kernelspec": {
   "display_name": "Python 3",
   "language": "python",
   "name": "python3"
  },
  "language_info": {
   "codemirror_mode": {
    "name": "ipython",
    "version": 3
   },
   "file_extension": ".py",
   "mimetype": "text/x-python",
   "name": "python",
   "nbconvert_exporter": "python",
   "pygments_lexer": "ipython3",
   "version": "3.8.5"
  },
  "toc": {
   "base_numbering": 1,
   "nav_menu": {},
   "number_sections": true,
   "sideBar": true,
   "skip_h1_title": false,
   "title_cell": "Table of Contents",
   "title_sidebar": "Contents",
   "toc_cell": false,
   "toc_position": {},
   "toc_section_display": true,
   "toc_window_display": false
  }
 },
 "nbformat": 4,
 "nbformat_minor": 4
}
