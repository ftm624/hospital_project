{
 "cells": [
  {
   "cell_type": "markdown",
   "metadata": {},
   "source": [
    "# Hospital Capacity Simulator"
   ]
  },
  {
   "cell_type": "code",
   "execution_count": 1,
   "metadata": {},
   "outputs": [],
   "source": [
    "%matplotlib inline\n",
    "\n",
    "import numpy as np\n",
    "import pandas as pd\n",
    "import matplotlib.pyplot as plt\n",
    "import seaborn as sns\n",
    "import datetime\n",
    "from datetime import datetime, timedelta, date\n",
    "\n",
    "\n",
    "from numpy import random\n",
    "# from ipywidgets import interact, Layout, Button, Box, FloatText, Textarea, Dropdown, Label, IntSlider, DatePicker, interactive\n",
    "# from ipywidgets import FloatSlider, HBox, VBox, Output, AppLayout, HTML\n",
    "\n",
    "from ipywidgets import *\n",
    "from IPython.display import display"
   ]
  },
  {
   "cell_type": "markdown",
   "metadata": {},
   "source": [
    "\n",
    "- Generate and plot random data for planned and unplanned admissions"
   ]
  },
  {
   "cell_type": "code",
   "execution_count": 2,
   "metadata": {},
   "outputs": [],
   "source": [
    "#### Slider Functions #### \n",
    "\n",
    "def beds(Beds): return\n",
    "def r(Rate): return\n",
    "def p(avg, std): return\n",
    "def b(avg_bias, std_bias): return\n",
    "def c(adm_std_bias): return"
   ]
  },
  {
   "cell_type": "code",
   "execution_count": 3,
   "metadata": {},
   "outputs": [],
   "source": [
    "#### Sliders #### \n",
    "\n",
    "num_beds = interactive(beds, Beds=IntSlider(value=312, min=100, max=500))\n",
    "num_beds.kwargs = {'Beds': 312}\n",
    "\n",
    "unplan_adm_rate = interactive(r, Rate=FloatSlider(value=0.3, min=0.0, max=1.0, step=0.05))\n",
    "unplan_adm_rate.kwargs = {'Rate': 0.3}\n",
    "\n",
    "\n",
    "pl_los = interactive(p, avg=FloatSlider(value=36.0, min=0.0, max=120.0, step=0.5), \n",
    "                     std=FloatSlider(value=8.0, min=0.0, max=60.0, step=0.1))\n",
    "pl_los.kwargs = {'avg': 36.0, 'std': 8.0}\n",
    "\n",
    "unpl_los = interactive(p, avg=FloatSlider(value=48.0, min=0.0, max=120.0, step=0.5), \n",
    "                       std=FloatSlider(value=12.0, min=0.0, max=60.0, step=0.1))\n",
    "unpl_los.kwargs = {'avg': 48.0, 'std': 12.0}\n",
    "\n",
    "pl_adm_bias = interactive(b, avg_bias=FloatSlider(value=0.0, min=-10.0, max=10.0, step=0.5), \n",
    "                           std_bias=FloatSlider(value=0.0, min=-10.0, max=10.0, step=0.1))\n",
    "pl_adm_bias.kwargs = {'avg_bias': 0.0, 'std_bias': 0.0}\n",
    "\n",
    "unpl_adm_bias = interactive(b, avg_bias=FloatSlider(value=0.0, min=-10.0, max=10.0, step=0.5),\n",
    "                           std_bias=FloatSlider(value=0.0, min=-10.0, max=10.0, step=0.1))\n",
    "unpl_adm_bias.kwargs = {'avg_bias': 0.0, 'std_bias': 0.0}"
   ]
  },
  {
   "cell_type": "code",
   "execution_count": 4,
   "metadata": {},
   "outputs": [],
   "source": [
    "# dates selectors\n",
    "today = date.today()\n",
    "start = DatePicker( description='Begin:', disabled=False)\n",
    "start.value = today-timedelta(days=7)\n",
    "end = DatePicker(description='End:', disabled=False)\n",
    "end.value = today"
   ]
  },
  {
   "cell_type": "code",
   "execution_count": 5,
   "metadata": {},
   "outputs": [],
   "source": [
    "#### Arrival Stats #### "
   ]
  },
  {
   "cell_type": "code",
   "execution_count": 6,
   "metadata": {},
   "outputs": [],
   "source": [
    "plan_hrly_means = np.array([[0.2, 0.2, 0.2, 0.2, 0.2, 3.5, 9.0, 13.0, 12.0, 12.0, 11.0, 11, 11, 11, 11, 10, 9, 6, 3, 1, \n",
    "                             0.2, 0.2, 0.2, 0.2]]).T\n",
    "\n",
    "plan_hrly_std = np.array([[2.5, 2.1, 1.7, 1.6, 1.4, 1.35, 1.2, 3.5, 4.9, 5.7, 5.5, 4.4, 4.6, 4.8, 4.7, 4.6, 4.3, 4.2, 4.3, \n",
    "                            5, 5.5, 4.2, 3.3, 2.9]]).T\n",
    "\n",
    "unplan_hrly_means = np.array([2.5, 2.1 ,1.7, 1.6, 1.4, 1.35, 1.2, 3.5, 4.9, 5.7, 5.5, 4.4, 4.6, 4.8, 4.7, 4.6, 4.3, 4.2, 4.3, 5,\n",
    "                         5.5, 4.2, 3.3, 2.9])\n",
    "\n",
    "unplan_hrly_std = np.array([0.05, 0.05, 0.05, 0.05, 0.05, 0.875, 1.5, 3, 2.75, 2.5, 3.25, 3.25, 3, 2.75, 3, 1.75, 2, 1, 0.75, 0.25, \n",
    "                        0.05, 0.05, 0.05, 0.05])"
   ]
  },
  {
   "cell_type": "code",
   "execution_count": 7,
   "metadata": {},
   "outputs": [],
   "source": [
    "#### Plots #### "
   ]
  },
  {
   "cell_type": "code",
   "execution_count": 8,
   "metadata": {},
   "outputs": [],
   "source": [
    "def gen_day_normal(hrly_means, hrly_std, bias, rate=None):\n",
    "    if not rate: rate=1.0\n",
    "    patients = [int(random.normal(loc=m.item(), scale=s.item())*rate) for m,s in zip(hrly_means + bias, hrly_std)]\n",
    "    return [p if p>=0 else 0 for p in patients]\n",
    "\n",
    "# def gen_day(hrly_means, bias, rate=None):\n",
    "#     if rate:\n",
    "#         return [int(random.poisson(lam=m.item())*rate) for m in hrly_means + bias]\n",
    "#     else: \n",
    "#         return [random.poisson(lam=m.item()) for m in hrly_means + bias]\n",
    "\n",
    "def gen_hrly_los(patients, avg, std):\n",
    "    return [[int(random.normal(loc=avg, scale=std)) for x in range(a)] for a in patients]\n",
    "\n",
    "def plot_one_day():\n",
    "    fig, ax = plt.subplots(1,2, figsize=(15,5))\n",
    "\n",
    "    sns.barplot(x=np.arange(0,24,1), y=gen_day_normal(plan_hrly_means, \n",
    "                                                      plan_hrly_std, \n",
    "                                                      pl_adm_bias.kwargs['avg_bias']), ax=ax[0]);\n",
    "    ax[0].set(xlabel='Hour of the Day', ylabel='# of Patients')\n",
    "    ax[0].set_title(\"Random Planned Admissions per Hour\")\n",
    "\n",
    "    sns.barplot(x=np.arange(0,24,1), y=gen_day_normal(unplan_hrly_means, \n",
    "                                              unplan_hrly_std, \n",
    "                                              unpl_adm_bias.kwargs['avg_bias'], \n",
    "                                              unplan_adm_rate.kwargs['Rate']), ax=ax[1])\n",
    "\n",
    "    ax[1].set(xlabel='Hour of the Day', ylabel='# of Patients')\n",
    "    ax[1].set_title(\"Random Unplanned Admissions per Hour\")\n",
    "    plt.show();\n",
    "\n",
    "def count_days(start, end):\n",
    "    if start.value and end.value:\n",
    "        delta = end.value - start.value\n",
    "        return delta.days\n",
    "\n",
    "def autolabel(ax, rects, xpos='center'):\n",
    "    ha = {'center': 'center', 'right': 'left', 'left': 'right'}\n",
    "    offset = {'center': 0, 'right': 1, 'left': -1}\n",
    "\n",
    "    for rect in rects:\n",
    "        height = rect.get_height()\n",
    "        ax.annotate('{}'.format(height),\n",
    "                    xy=(rect.get_x() + rect.get_width() / 2, height),\n",
    "                    xytext=(offset[xpos]*3, 3),  # use 3 points offset\n",
    "                    textcoords=\"offset points\",  # in both directions\n",
    "                    ha=ha[xpos], va='bottom')"
   ]
  },
  {
   "cell_type": "code",
   "execution_count": 9,
   "metadata": {},
   "outputs": [],
   "source": [
    "def gen_random_admissions(num_days):\n",
    "    tot_planned, tot_unplanned = [],[]\n",
    "    hrly_pln, hrly_unpln = [],[]\n",
    "    \n",
    "    for day in range(num_days):\n",
    "        rand_plan = gen_day_normal(plan_hrly_means, \n",
    "                                   plan_hrly_std, \n",
    "                                   pl_adm_bias.kwargs['avg_bias'])\n",
    "        rand_unplan = gen_day_normal(unplan_hrly_means, \n",
    "                                     unplan_hrly_std, \n",
    "                                     unpl_adm_bias.kwargs['avg_bias'], \n",
    "                                     unplan_adm_rate.kwargs['Rate'])\n",
    "#         rand_plan = gen_day(plan_hrly_means, pl_adm_bias.kwargs['avg_bias'])\n",
    "#         rand_unplan = gen_day(unplan_hrly_means, unpl_adm_bias.kwargs['avg_bias'], unplan_adm_rate.kwargs['Rate'])\n",
    "\n",
    "        plan_los = gen_hrly_los(rand_plan, pl_los.kwargs['avg'], pl_los.kwargs['std'])\n",
    "        unplan_los = gen_hrly_los(rand_unplan, unpl_los.kwargs['avg'], unpl_los.kwargs['std'])\n",
    "        \n",
    "        hrly_pln.append(plan_los)\n",
    "        hrly_unpln.append(unplan_los)\n",
    "        \n",
    "        tot_unplanned.append(sum(rand_unplan))\n",
    "        tot_planned.append(sum(rand_plan))\n",
    "    \n",
    "    return tot_planned, tot_unplanned, hrly_pln, hrly_unpln"
   ]
  },
  {
   "cell_type": "code",
   "execution_count": 10,
   "metadata": {},
   "outputs": [],
   "source": [
    "def get_random_admission(start_date, end_date):\n",
    "    num_days = count_days(start_date, end_date)\n",
    "    string_dates = [(start_date.value + timedelta(days=i)).isoformat() for i in range(0,num_days)]\n",
    "    tot_planned, tot_unplanned, hrly_pl, hrly_upl = gen_random_admissions(num_days)\n",
    "    return string_dates, tot_planned, tot_unplanned, hrly_pl, hrly_upl"
   ]
  },
  {
   "cell_type": "code",
   "execution_count": 11,
   "metadata": {},
   "outputs": [],
   "source": [
    "def plot_admissions(string_dates, tot_planned, tot_unplanned):\n",
    "    \n",
    "    ind = np.arange(len(tot_planned))  # the x locations for the groups\n",
    "    width = 0.35  # the width of the bars\n",
    "\n",
    "    fig, ax = plt.subplots(figsize=(12, 7))\n",
    "    rects1 = ax.bar(ind - width/2, tot_planned, width, label='Planned')\n",
    "    rects2 = ax.bar(ind + width/2, tot_unplanned, width, label='Unplanned')\n",
    "\n",
    "    # Add some text for labels, title and custom x-axis tick labels, etc.\n",
    "    ax.set_ylabel('# of patients')\n",
    "    ax.set_title('Admissions Per Day')\n",
    "    ax.set_xticks(ind)\n",
    "    ax.set_xticklabels(string_dates)\n",
    "    fig.autofmt_xdate()\n",
    "    ax.legend()\n",
    "\n",
    "    autolabel(ax, rects1, \"left\")\n",
    "    autolabel(ax, rects2, \"right\")\n",
    "    \n",
    "    plt.show()"
   ]
  },
  {
   "cell_type": "code",
   "execution_count": 12,
   "metadata": {},
   "outputs": [],
   "source": [
    "#### LOS ####"
   ]
  },
  {
   "cell_type": "code",
   "execution_count": 13,
   "metadata": {},
   "outputs": [],
   "source": [
    "string_dates, tot_pl, tot_unpl, hrly_pl, hrly_upl = get_random_admission(start, end)"
   ]
  },
  {
   "cell_type": "code",
   "execution_count": 14,
   "metadata": {},
   "outputs": [],
   "source": [
    "adm_dis_los = []\n",
    "\n",
    "for day in range(len(hrly_pl)):\n",
    "    for hr in range(len(hrly_pl[day])):\n",
    "        for los in hrly_pl[day][hr]:\n",
    "            s = string_dates[day]+ f' {hr}:00:00' \n",
    "            admit = datetime.strptime(s, \"%Y-%m-%d %H:%M:%S\")\n",
    "            discharge = admit + timedelta(hours=los)\n",
    "            adm_dis_los.append((admit.strftime(\"%Y.%m.%d %H:%M:%S\"), discharge.strftime(\"%Y.%m.%d %H:%M:%S\"), los))"
   ]
  },
  {
   "cell_type": "code",
   "execution_count": 15,
   "metadata": {},
   "outputs": [],
   "source": [
    "df = pd.DataFrame(columns=[\"admit\",\"discharge\", \"LOS\"])\n",
    "\n",
    "for i in range(len(adm_dis_los)):\n",
    "    ad, dis, los = adm_dis_los[i]\n",
    "    df.loc[i] = [ad, dis, los]"
   ]
  },
  {
   "cell_type": "code",
   "execution_count": 16,
   "metadata": {},
   "outputs": [],
   "source": [
    "#### Buttons #### "
   ]
  },
  {
   "cell_type": "code",
   "execution_count": 17,
   "metadata": {},
   "outputs": [],
   "source": [
    "button = Button(description=\"Plot Sample Days\")\n",
    "output = Output()\n",
    "\n",
    "# def on_button_clicked(b):\n",
    "#     output.clear_output()\n",
    "#     with output:\n",
    "#         plot_one_day()\n",
    "\n"
   ]
  },
  {
   "cell_type": "code",
   "execution_count": 18,
   "metadata": {},
   "outputs": [],
   "source": [
    "gen_button = Button(description=\"Generate Admissions\")\n",
    "output2 = Output()  \n",
    "\n",
    "def on_change(b):\n",
    "    output.clear_output() \n",
    "    with output:\n",
    "        plot_one_day()\n",
    "    \n",
    "    output2.clear_output()\n",
    "    with output2:\n",
    "        string_dates, tot_pl, tot_unpl, hrly_pl, hrly_upl = get_random_admission(start, end)\n",
    "        plot_admissions(string_dates, tot_pl, tot_unpl)        \n",
    "    \n",
    "\n",
    "button.on_click(on_change)        \n",
    "gen_button.on_click(on_change)\n",
    "\n",
    "start.observe(on_change)\n",
    "end.observe(on_change)"
   ]
  },
  {
   "cell_type": "code",
   "execution_count": 19,
   "metadata": {},
   "outputs": [],
   "source": [
    "#### Forms #### "
   ]
  },
  {
   "cell_type": "code",
   "execution_count": 20,
   "metadata": {},
   "outputs": [],
   "source": [
    "stats_items = [HTML(value=\"<b>Planned:</b>\"),\n",
    "               Label('Admission:'), pl_adm_bias,\n",
    "               Label('LOS:'), pl_los, \n",
    "               HTML(value=\"<b>Unplanned:</b>\"),\n",
    "               Label('Admission:'), unpl_adm_bias,unplan_adm_rate,\n",
    "               Label('LOS:'), unpl_los]\n",
    "\n",
    "stats_sidebar = Box(stats_items, layout=Layout(display='flex-grow',\n",
    "                                               flex_flow='column',\n",
    "                                               align_items='flex-start',\n",
    "                                               justify_content='space-between',\n",
    "                                               width=\"auto\"))"
   ]
  },
  {
   "cell_type": "code",
   "execution_count": 21,
   "metadata": {},
   "outputs": [],
   "source": [
    "dates = Box([HBox([start, end])], layout=Layout(display='flex', flex_flow='row',\n",
    "                                                            height=\"auto\", align_items='center', \n",
    "                                                            justify_content='center', width='auto'))\n",
    "\n",
    "gen_adms = Box([gen_button], layout=Layout(display='flex', flex_flow='row',\n",
    "                                             height=\"auto\", align_items='center', \n",
    "                                             justify_content='center', width='auto'))"
   ]
  },
  {
   "cell_type": "code",
   "execution_count": 22,
   "metadata": {},
   "outputs": [],
   "source": [
    "# total_adm_plot = Box([output2], layout=Layout(display='flex', \n",
    "#                                flex_flow='row',\n",
    "#                                align_items='center', \n",
    "#                                justify_content='center'))\n",
    "\n",
    "# rand_adm_plot = Box([output], layout=Layout(display='flex', \n",
    "#                                flex_flow='row',\n",
    "#                                align_items='center', \n",
    "#                                justify_content='center'))\n",
    "\n",
    "\n",
    "# per_hr_plot = Box([button], layout=Layout(display='flex', \n",
    "#                                           flex_flow='row',\n",
    "#                                           align_items='center', \n",
    "#                                           justify_content='center'))"
   ]
  },
  {
   "cell_type": "code",
   "execution_count": 23,
   "metadata": {},
   "outputs": [],
   "source": [
    "tab_contents = ['Sample Days', 'Total Admissions']\n",
    "children = [output, output2]\n",
    "tab = Tab()\n",
    "tab.children = children\n",
    "tab.set_title(0, 'Sample Days')\n",
    "tab.set_title(1, 'Admissions Per Day')"
   ]
  },
  {
   "cell_type": "code",
   "execution_count": 24,
   "metadata": {},
   "outputs": [
    {
     "data": {
      "application/vnd.jupyter.widget-view+json": {
       "model_id": "8b30cc0094a14bb6821e32ed4870ea9d",
       "version_major": 2,
       "version_minor": 0
      },
      "text/plain": [
       "AppLayout(children=(Box(children=(Button(description='Generate Admissions', style=ButtonStyle()),), layout=Lay…"
      ]
     },
     "metadata": {},
     "output_type": "display_data"
    }
   ],
   "source": [
    "AppLayout(left_sidebar=stats_sidebar,\n",
    "          center=tab, \n",
    "          footer = gen_adms )"
   ]
  },
  {
   "cell_type": "code",
   "execution_count": 25,
   "metadata": {},
   "outputs": [],
   "source": [
    "# AppLayout(center=total_adm_plot,\n",
    "#           footer=gen_adms)"
   ]
  },
  {
   "cell_type": "code",
   "execution_count": 26,
   "metadata": {},
   "outputs": [],
   "source": [
    "on_change(None)"
   ]
  },
  {
   "cell_type": "code",
   "execution_count": 27,
   "metadata": {},
   "outputs": [],
   "source": [
    "sidebar2_items = [VBox([Label('Total Beds:'), num_beds])]\n",
    "\n",
    "sidebar2 = Box(sidebar2_items, layout=Layout(display='flex-grow',\n",
    "                                               flex_flow='column',\n",
    "                                               align_items='flex-start',\n",
    "                                               justify_content='space-between',\n",
    "                                               width=\"auto\"))"
   ]
  },
  {
   "cell_type": "code",
   "execution_count": 28,
   "metadata": {},
   "outputs": [
    {
     "data": {
      "application/vnd.jupyter.widget-view+json": {
       "model_id": "a4e99ecf16d14ef5870dfd8fa699ce28",
       "version_major": 2,
       "version_minor": 0
      },
      "text/plain": [
       "AppLayout(children=(Box(children=(VBox(children=(Label(value='Total Beds:'), interactive(children=(IntSlider(v…"
      ]
     },
     "metadata": {},
     "output_type": "display_data"
    }
   ],
   "source": [
    "AppLayout(left_sidebar=sidebar2)"
   ]
  },
  {
   "cell_type": "code",
   "execution_count": 29,
   "metadata": {},
   "outputs": [
    {
     "data": {
      "application/vnd.jupyter.widget-view+json": {
       "model_id": "e4a9e80437cd4af49c6cdebae041296f",
       "version_major": 2,
       "version_minor": 0
      },
      "text/plain": [
       "HBox(children=(Play(value=50, description='Press play', interval=500), IntSlider(value=0)))"
      ]
     },
     "metadata": {},
     "output_type": "display_data"
    }
   ],
   "source": [
    "\n",
    "play = Play(\n",
    "    value=50,\n",
    "    min=0,\n",
    "    max=100,\n",
    "    step=1,\n",
    "    interval=500,\n",
    "    description=\"Press play\",\n",
    "    disabled=False\n",
    ")\n",
    "slider = widgets.IntSlider()\n",
    "widgets.jslink((play, 'value'), (slider, 'value'))\n",
    "widgets.HBox([play, slider])"
   ]
  },
  {
   "cell_type": "code",
   "execution_count": 30,
   "metadata": {},
   "outputs": [
    {
     "data": {
      "application/vnd.jupyter.widget-view+json": {
       "model_id": "d7d238d5a29149fc8dfaef42bdd80cd6",
       "version_major": 2,
       "version_minor": 0
      },
      "text/plain": [
       "Tab(children=(Output(), Output()), layout=Layout(grid_area='center'), _titles={'0': 'Sample Days', '1': 'Admis…"
      ]
     },
     "metadata": {},
     "output_type": "display_data"
    }
   ],
   "source": [
    "\n",
    "tab\n"
   ]
  },
  {
   "cell_type": "code",
   "execution_count": null,
   "metadata": {},
   "outputs": [],
   "source": []
  }
 ],
 "metadata": {
  "kernelspec": {
   "display_name": "Python 3",
   "language": "python",
   "name": "python3"
  },
  "language_info": {
   "codemirror_mode": {
    "name": "ipython",
    "version": 3
   },
   "file_extension": ".py",
   "mimetype": "text/x-python",
   "name": "python",
   "nbconvert_exporter": "python",
   "pygments_lexer": "ipython3",
   "version": "3.8.5"
  },
  "toc": {
   "base_numbering": 1,
   "nav_menu": {},
   "number_sections": true,
   "sideBar": true,
   "skip_h1_title": false,
   "title_cell": "Table of Contents",
   "title_sidebar": "Contents",
   "toc_cell": false,
   "toc_position": {},
   "toc_section_display": true,
   "toc_window_display": false
  }
 },
 "nbformat": 4,
 "nbformat_minor": 4
}
