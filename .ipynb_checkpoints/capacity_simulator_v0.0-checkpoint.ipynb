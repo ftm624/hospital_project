{
 "cells": [
  {
   "cell_type": "markdown",
   "metadata": {},
   "source": [
    "# Hospital Capacity Simulator"
   ]
  },
  {
   "cell_type": "code",
   "execution_count": 1,
   "metadata": {},
   "outputs": [],
   "source": [
    "%matplotlib inline\n",
    "\n",
    "import numpy as np\n",
    "import pandas as pd\n",
    "import matplotlib.pyplot as plt\n",
    "import seaborn as sns\n",
    "import datetime\n",
    " \n",
    "from numpy import random\n",
    "from ipywidgets import interact, Layout, Button, Box, FloatText, Textarea, Dropdown, Label, IntSlider, DatePicker, interactive\n",
    "from ipywidgets import FloatSlider, HBox, VBox, Output\n",
    "from IPython.display import display"
   ]
  },
  {
   "cell_type": "markdown",
   "metadata": {},
   "source": [
    "\n",
    "- Set general hospital stats\n",
    "- Set patient generator stats\n",
    "- Plot sample days\n",
    "- Select date range and generate random admissions\n",
    "- Calculate and graph hourly metrics "
   ]
  },
  {
   "cell_type": "markdown",
   "metadata": {},
   "source": [
    "### Set general stats:"
   ]
  },
  {
   "cell_type": "code",
   "execution_count": 2,
   "metadata": {},
   "outputs": [],
   "source": [
    "def f(Rate): return\n",
    "def b(Beds): return"
   ]
  },
  {
   "cell_type": "code",
   "execution_count": 3,
   "metadata": {},
   "outputs": [],
   "source": [
    "num_beds = interactive(b, Beds=IntSlider(value=312, min=100, max=500));\n",
    "\n",
    "unplan_adm_rate = interactive(f, Rate=FloatSlider(value=.3, min=0.0, max=1.0, step=0.05));"
   ]
  },
  {
   "cell_type": "code",
   "execution_count": 4,
   "metadata": {},
   "outputs": [
    {
     "data": {
      "application/vnd.jupyter.widget-view+json": {
       "model_id": "d628b3dcc1274079b62bc7dcd70ef103",
       "version_major": 2,
       "version_minor": 0
      },
      "text/plain": [
       "Box(children=(VBox(children=(Label(value='Total Beds:'), interactive(children=(IntSlider(value=312, descriptio…"
      ]
     },
     "metadata": {},
     "output_type": "display_data"
    }
   ],
   "source": [
    "form_item_layout = Layout(display='flex', flex_flow='row', justify_content='flex-start')\n",
    "\n",
    "form_items = [VBox([Label('Total Beds:'), num_beds])]\n",
    "\n",
    "stats_form = Box(form_items, layout=Layout(\n",
    "    display='flex',\n",
    "    flex_flow='column',\n",
    "    border='solid 1px',\n",
    "    align_items='flex-start',\n",
    "    width='75%'))\n",
    "\n",
    "display(stats_form)"
   ]
  },
  {
   "cell_type": "markdown",
   "metadata": {},
   "source": [
    "### Set patient generator stats & plot sample days"
   ]
  },
  {
   "cell_type": "code",
   "execution_count": 5,
   "metadata": {},
   "outputs": [],
   "source": [
    "def p(los_avg, los_std): return\n",
    "def b(adm_avg_bias): return\n",
    "def c(adm_std_bias): return"
   ]
  },
  {
   "cell_type": "code",
   "execution_count": 6,
   "metadata": {},
   "outputs": [],
   "source": [
    "style = {'description_width': 'initial'}"
   ]
  },
  {
   "cell_type": "code",
   "execution_count": 7,
   "metadata": {},
   "outputs": [],
   "source": [
    "planned_los = interactive(p, los_avg=FloatSlider(value=36.0, min=0.0, max=120.0, step=0.5), \n",
    "                 los_std=FloatSlider(value=8.0, min=0.0, max=60.0, step=0.1));\n",
    "\n",
    "unplanned_los = interactive(p, los_avg=FloatSlider(value=48.0, min=0.0, max=120.0, step=0.5), \n",
    "                 los_std=FloatSlider(value=12.0, min=0.0, max=60.0, step=0.1));"
   ]
  },
  {
   "cell_type": "code",
   "execution_count": 8,
   "metadata": {},
   "outputs": [],
   "source": [
    "plan_mean_bias = interactive(b, adm_avg_bias=FloatSlider(value=0.0, min=-10.0, max=10.0, step=0.5,  style=style))\n",
    "\n",
    "plan_std_bias = interactive(c, adm_std_bias=FloatSlider(value=0.0, min=-10.0, max=10.0, step=0.1,  style=style))\n",
    "\n",
    "unplan_mean_bias = interactive(b, adm_avg_bias=FloatSlider(value=0.0, min=-10.0, max=10.0, step=0.5,  style=style))\n",
    "\n",
    "unplan_std_bias = interactive(c, adm_std_bias=FloatSlider(value=0.0, min=-10.0, max=10.0, step=0.1,  style=style))"
   ]
  },
  {
   "cell_type": "code",
   "execution_count": 9,
   "metadata": {},
   "outputs": [],
   "source": [
    "plan_hrly_means = np.array([[0.2, 0.2, 0.2, 0.2, 0.2, 3.5, 9, 13, 12, 12, 10, 11, 11, 11, 11, 10, 9, 6, 3, 1, \n",
    "                             0.2, 0.2, 0.2, 0.2]]).T\n",
    "\n",
    "plan_hrly_std = np.array([[2.5, 2.1, 1.7, 1.6, 1.4, 1.35, 1.2, 3.5, 4.9, 5.7, 5.5, 4.4, 4.6, 4.8, 4.7, 4.6, 4.3, 4.2, 4.3, \n",
    "                            5, 5.5, 4.2, 3.3, 2.9]]).T\n",
    "\n",
    "unplan_hrly_means = np.array([2.5, 2.1 ,1.7, 1.6, 1.4, 1.35, 1.2, 3.5, 4.9, 5.7, 5.5, 4.4, 4.6, 4.8, 4.7, 4.6, 4.3, 4.2, 4.3, 5,\n",
    "                         5.5, 4.2, 3.3, 2.9])\n",
    "\n",
    "unplan_hrly_std = np.array([0.05, 0.05, 0.05, 0.05, 0.05, 0.875, 1.5, 3, 2.75, 2.5, 3.25, 3.25, 3, 2.75, 3, 1.75, 2, 1, 0.75, 0.25, \n",
    "                        0.05, 0.05, 0.05, 0.05])"
   ]
  },
  {
   "cell_type": "code",
   "execution_count": 10,
   "metadata": {},
   "outputs": [],
   "source": [
    "def gen_day_normal(hrly_means, hrly_std, bias, rate=None):\n",
    "    if not rate: rate=1\n",
    "    patients = [int(random.normal(loc=m.item(), scale=s.item())*rate) for m,s in zip(hrly_means + bias, hrly_std)]\n",
    "    return [p if p>=0 else 0 for p in patients]"
   ]
  },
  {
   "cell_type": "code",
   "execution_count": 11,
   "metadata": {},
   "outputs": [],
   "source": [
    "def gen_day(hrly_means, bias, rate=None):\n",
    "    if rate:\n",
    "        return [int(random.poisson(lam=m.item())*rate) for m in hrly_means + bias]\n",
    "    else: \n",
    "        return [random.poisson(lam=m.item()) for m in hrly_means + bias]"
   ]
  },
  {
   "cell_type": "code",
   "execution_count": 12,
   "metadata": {},
   "outputs": [],
   "source": [
    "bias_form_items = [\n",
    "                    VBox([Label('Unplanned Admission Rate (%):'), unplan_adm_rate]),\n",
    "                    HBox([VBox([Label('Planned:'), planned_los, plan_mean_bias, plan_std_bias]),\n",
    "                    VBox([Label('Unplanned:'), unplanned_los, unplan_mean_bias, unplan_std_bias])])]\n",
    "\n",
    "bias_form = Box(bias_form_items, \n",
    "                layout=Layout(display='flex-grow',\n",
    "                              flex_flow='column',\n",
    "                              border='solid 1px',\n",
    "                              align_items='flex-start',\n",
    "                              justify_content='space-between',\n",
    "                              width='75%'))"
   ]
  },
  {
   "cell_type": "code",
   "execution_count": 13,
   "metadata": {},
   "outputs": [
    {
     "data": {
      "application/vnd.jupyter.widget-view+json": {
       "model_id": "90f957417da24d7bbfcfdb6f5e480631",
       "version_major": 2,
       "version_minor": 0
      },
      "text/plain": [
       "Box(children=(VBox(children=(Label(value='Unplanned Admission Rate (%):'), interactive(children=(FloatSlider(v…"
      ]
     },
     "metadata": {},
     "output_type": "display_data"
    }
   ],
   "source": [
    "display(bias_form)"
   ]
  },
  {
   "cell_type": "code",
   "execution_count": 14,
   "metadata": {},
   "outputs": [],
   "source": [
    "def plot_one_day():\n",
    "    for i in range(1):\n",
    "        ax = sns.barplot(x=np.arange(0,24,1), y=gen_day_normal(plan_hrly_means, \n",
    "                                                               plan_hrly_std, \n",
    "                                                               plan_mean_bias.kwargs['adm_avg_bias']));\n",
    "        ax.set(xlabel='Hour of the Day', ylabel='# of Patients')\n",
    "        ax.set_title(\"Random Planned Admissions per Hour\")\n",
    "        plt.show();\n",
    "    \n",
    "    for i in range(1):\n",
    "        ax = sns.barplot(x=np.arange(0,24,1), \n",
    "                         y=gen_day_normal(unplan_hrly_means, \n",
    "                                          unplan_hrly_std, \n",
    "                                          unplan_mean_bias.kwargs['adm_avg_bias'], \n",
    "                                          unplan_adm_rate.kwargs['Rate']));\n",
    "        ax.set(xlabel='Hour of the Day', ylabel='# of Patients')\n",
    "        ax.set_title(\"Random Unplanned Admissions per Hour\")\n",
    "        plt.show();"
   ]
  },
  {
   "cell_type": "code",
   "execution_count": 15,
   "metadata": {},
   "outputs": [],
   "source": [
    "button = Button(description=\"Plot Sample Days\")\n",
    "output = Output()"
   ]
  },
  {
   "cell_type": "code",
   "execution_count": 16,
   "metadata": {},
   "outputs": [],
   "source": [
    "def on_button_clicked(b):\n",
    "    output.clear_output()\n",
    "    with output:\n",
    "        plot_one_day()\n",
    "\n",
    "button.on_click(on_button_clicked)"
   ]
  },
  {
   "cell_type": "code",
   "execution_count": 17,
   "metadata": {},
   "outputs": [
    {
     "data": {
      "application/vnd.jupyter.widget-view+json": {
       "model_id": "44a5a1da75da4cebaf64c9c7848c1e71",
       "version_major": 2,
       "version_minor": 0
      },
      "text/plain": [
       "Button(description='Plot Sample Days', style=ButtonStyle())"
      ]
     },
     "metadata": {},
     "output_type": "display_data"
    },
    {
     "data": {
      "application/vnd.jupyter.widget-view+json": {
       "model_id": "d917d9cf748b4bd48e63cf0a4ba702b9",
       "version_major": 2,
       "version_minor": 0
      },
      "text/plain": [
       "Output()"
      ]
     },
     "metadata": {},
     "output_type": "display_data"
    }
   ],
   "source": [
    "display(button, output)"
   ]
  },
  {
   "cell_type": "markdown",
   "metadata": {},
   "source": [
    "### Plot admissions and hrly calculations for select dates"
   ]
  },
  {
   "cell_type": "code",
   "execution_count": 18,
   "metadata": {},
   "outputs": [],
   "source": [
    "today = datetime.date.today()\n",
    "start = DatePicker( description='Begin:', disabled=False)\n",
    "start.value = today-datetime.timedelta(days=7)\n",
    "end = DatePicker(description='End:', disabled=False)\n",
    "end.value = today"
   ]
  },
  {
   "cell_type": "code",
   "execution_count": 19,
   "metadata": {},
   "outputs": [],
   "source": [
    "dates_form = Box([HBox([start, end])], \n",
    "                 layout=Layout(display='flex', \n",
    "                      flex_flow='row',\n",
    "                      border='solid 1px',\n",
    "                      height='75px',\n",
    "                      align_items='center', \n",
    "                      width='75%'))"
   ]
  },
  {
   "cell_type": "code",
   "execution_count": 20,
   "metadata": {},
   "outputs": [],
   "source": [
    "def count_days(start, end):\n",
    "    if start.value and end.value:\n",
    "        delta = end.value - start.value\n",
    "        return delta.days\n",
    "    \n",
    "def autolabel(ax, rects, xpos='center'):\n",
    "    ha = {'center': 'center', 'right': 'left', 'left': 'right'}\n",
    "    offset = {'center': 0, 'right': 1, 'left': -1}\n",
    "\n",
    "    for rect in rects:\n",
    "        height = rect.get_height()\n",
    "        ax.annotate('{}'.format(height),\n",
    "                    xy=(rect.get_x() + rect.get_width() / 2, height),\n",
    "                    xytext=(offset[xpos]*3, 3),  # use 3 points offset\n",
    "                    textcoords=\"offset points\",  # in both directions\n",
    "                    ha=ha[xpos], va='bottom')"
   ]
  },
  {
   "cell_type": "code",
   "execution_count": 21,
   "metadata": {},
   "outputs": [],
   "source": [
    "def gen_random_admissions(num_days):\n",
    "    tot_planned, tot_unplanned = [],[]\n",
    "    hrly_pln, hrly_unpln = [],[]\n",
    "    \n",
    "    for day in range(num_days):\n",
    "        rand_plan = gen_day(plan_hrly_means, plan_mean_bias.kwargs['adm_avg_bias'])\n",
    "        rand_unplan = gen_day(unplan_hrly_means, unplan_mean_bias.kwargs['adm_avg_bias'], unplan_adm_rate.kwargs['Rate'])\n",
    "        \n",
    "        hrly_pln.append(rand_plan)\n",
    "        hrly_unpln.append(rand_unplan)\n",
    "        tot_unplanned.append(sum(rand_unplan))\n",
    "        tot_planned.append(sum(rand_plan))\n",
    "    \n",
    "    return tot_planned, tot_unplanned, hrly_pln, hrly_unpln"
   ]
  },
  {
   "cell_type": "code",
   "execution_count": 22,
   "metadata": {},
   "outputs": [],
   "source": [
    "def get_random_admission(start_date, end_date):\n",
    "    num_days = count_days(start_date, end_date)\n",
    "    string_dates = [(start_date.value + datetime.timedelta(days=i)).isoformat() for i in range(0,num_days)]\n",
    "    tot_planned, tot_unplanned, hrly_pl, hrly_upl = gen_random_admissions(num_days)\n",
    "    return string_dates, tot_planned, tot_unplanned, hrly_pl, hrly_upl"
   ]
  },
  {
   "cell_type": "code",
   "execution_count": 23,
   "metadata": {},
   "outputs": [],
   "source": [
    "def plot_admissions(string_dates, tot_planned, tot_unplanned):\n",
    "    \n",
    "    ind = np.arange(len(tot_planned))  # the x locations for the groups\n",
    "    width = 0.35  # the width of the bars\n",
    "\n",
    "    fig, ax = plt.subplots(figsize=(12, 7))\n",
    "    rects1 = ax.bar(ind - width/2, tot_planned, width, label='Planned')\n",
    "    rects2 = ax.bar(ind + width/2, tot_unplanned, width, label='Unplanned')\n",
    "\n",
    "    # Add some text for labels, title and custom x-axis tick labels, etc.\n",
    "    ax.set_ylabel('# of patients')\n",
    "    ax.set_title('Admissions Per Day')\n",
    "    ax.set_xticks(ind)\n",
    "    ax.set_xticklabels(string_dates)\n",
    "    fig.autofmt_xdate()\n",
    "    ax.legend()\n",
    "\n",
    "    autolabel(ax, rects1, \"left\")\n",
    "    autolabel(ax, rects2, \"right\")\n",
    "    \n",
    "    plt.show()"
   ]
  },
  {
   "cell_type": "code",
   "execution_count": 24,
   "metadata": {},
   "outputs": [],
   "source": [
    "def gen_hrly_los(tot_p, tot_up):\n",
    "    p_los = [[int(random.normal(loc=planned_los.kwargs['los_avg'], scale=planned_los.kwargs['los_std'])) for x in range(a)] for a in tot_p]\n",
    "    up_los = [[int(random.normal(loc=unplanned_los.kwargs['los_avg'], scale=unplanned_los.kwargs['los_std'])) for x in range(a)] for a in tot_p]\n",
    "    return p_los, up_los"
   ]
  },
  {
   "cell_type": "code",
   "execution_count": 25,
   "metadata": {},
   "outputs": [],
   "source": [
    "string_dates, tot_pl, tot_unpl, hrly_pl, hrly_upl = get_random_admission(start, end)\n",
    "p_los, up_los = gen_hrly_los(tot_pl, tot_unpl)"
   ]
  },
  {
   "cell_type": "code",
   "execution_count": 27,
   "metadata": {},
   "outputs": [],
   "source": [
    "def adm_dis_times(los):\n",
    "    admit = [random.choice(np.arange(0,23,1), 1).item() for i in range(len(los))]"
   ]
  },
  {
   "cell_type": "code",
   "execution_count": 28,
   "metadata": {},
   "outputs": [],
   "source": [
    "# adm_dis_times(p_los)"
   ]
  },
  {
   "cell_type": "code",
   "execution_count": 29,
   "metadata": {},
   "outputs": [],
   "source": [
    "gen_button = Button(description=\"Generate\")\n",
    "output2 = Output()"
   ]
  },
  {
   "cell_type": "code",
   "execution_count": 30,
   "metadata": {},
   "outputs": [],
   "source": [
    "def on_change(b):\n",
    "    output2.clear_output()\n",
    "    with output2:\n",
    "        string_dates, tot_pl, tot_unpl, hrly_pl, hrly_upl = get_random_admission(start, end)\n",
    "        plot_admissions(string_dates, tot_pl, tot_unpl)\n",
    "        \n",
    "unplan_adm_rate.observe(on_change)\n",
    "planned_los.observe(on_change)\n",
    "unplanned_los.observe(on_change)\n",
    "\n",
    "unplan_mean_bias.observe(on_change)\n",
    "unplan_std_bias.observe(on_change)\n",
    "plan_mean_bias.observe(on_change)\n",
    "plan_std_bias.observe(on_change)\n",
    "\n",
    "\n",
    "gen_button.on_click(on_change)\n",
    "\n",
    "start.observe(on_change)\n",
    "end.observe(on_change)"
   ]
  },
  {
   "cell_type": "code",
   "execution_count": 31,
   "metadata": {},
   "outputs": [
    {
     "data": {
      "application/vnd.jupyter.widget-view+json": {
       "model_id": "478693aea2d740c99a10f622966831d1",
       "version_major": 2,
       "version_minor": 0
      },
      "text/plain": [
       "Box(children=(HBox(children=(DatePicker(value=datetime.date(2020, 8, 31), description='Begin:'), DatePicker(va…"
      ]
     },
     "metadata": {},
     "output_type": "display_data"
    }
   ],
   "source": [
    "display(dates_form)"
   ]
  },
  {
   "cell_type": "code",
   "execution_count": 32,
   "metadata": {},
   "outputs": [
    {
     "data": {
      "application/vnd.jupyter.widget-view+json": {
       "model_id": "e6791ba6d2054b62aba917d05d920948",
       "version_major": 2,
       "version_minor": 0
      },
      "text/plain": [
       "Button(description='Generate', style=ButtonStyle())"
      ]
     },
     "metadata": {},
     "output_type": "display_data"
    },
    {
     "data": {
      "application/vnd.jupyter.widget-view+json": {
       "model_id": "b45d2d6c75d04b4f9945b98ed27b8146",
       "version_major": 2,
       "version_minor": 0
      },
      "text/plain": [
       "Output()"
      ]
     },
     "metadata": {},
     "output_type": "display_data"
    }
   ],
   "source": [
    "display(gen_button, output2)"
   ]
  },
  {
   "cell_type": "code",
   "execution_count": null,
   "metadata": {},
   "outputs": [],
   "source": []
  },
  {
   "cell_type": "code",
   "execution_count": null,
   "metadata": {},
   "outputs": [],
   "source": []
  },
  {
   "cell_type": "code",
   "execution_count": 33,
   "metadata": {},
   "outputs": [],
   "source": [
    "# import networkx as nx\n",
    "\n",
    "# def random_lobster(n, m, k, p):\n",
    "#     return nx.random_lobster(n, p, p / m)\n",
    "\n",
    "# def powerlaw_cluster(n, m, k, p):\n",
    "#     return nx.powerlaw_cluster_graph(n, m, p)\n",
    "\n",
    "# def erdos_renyi(n, m, k, p):\n",
    "#     return nx.erdos_renyi_graph(n, p)\n",
    "\n",
    "# def newman_watts_strogatz(n, m, k, p):\n",
    "#     return nx.newman_watts_strogatz_graph(n, k, p)\n",
    "\n",
    "# def plot_random_graph(n, m, k, p, generator):\n",
    "#     g = generator(n, m, k, p)\n",
    "#     nx.draw(g)\n",
    "#     plt.show()\n",
    "\n",
    "# interact(plot_random_graph, n=(2,30), m=(1,10), k=(1,10), p=(0.0, 1.0, 0.001),\n",
    "#          generator={\n",
    "#              'lobster': random_lobster,\n",
    "#              'power law': powerlaw_cluster,\n",
    "#              'Newman-Watts-Strogatz': newman_watts_strogatz,\n",
    "#              u'Erdős-Rényi': erdos_renyi,\n",
    "#          });"
   ]
  }
 ],
 "metadata": {
  "kernelspec": {
   "display_name": "Python 3",
   "language": "python",
   "name": "python3"
  },
  "language_info": {
   "codemirror_mode": {
    "name": "ipython",
    "version": 3
   },
   "file_extension": ".py",
   "mimetype": "text/x-python",
   "name": "python",
   "nbconvert_exporter": "python",
   "pygments_lexer": "ipython3",
   "version": "3.8.5"
  },
  "toc": {
   "base_numbering": 1,
   "nav_menu": {},
   "number_sections": true,
   "sideBar": true,
   "skip_h1_title": false,
   "title_cell": "Table of Contents",
   "title_sidebar": "Contents",
   "toc_cell": false,
   "toc_position": {},
   "toc_section_display": true,
   "toc_window_display": false
  }
 },
 "nbformat": 4,
 "nbformat_minor": 4
}
