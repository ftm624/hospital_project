{
 "cells": [
  {
   "cell_type": "code",
   "execution_count": 1,
   "metadata": {},
   "outputs": [],
   "source": [
    "%matplotlib inline\n",
    "\n",
    "import numpy as np\n",
    "import pandas as pd\n",
    "import matplotlib.pyplot as plt\n",
    "import seaborn as sns\n",
    "import datetime\n",
    "\n",
    "from numpy import random\n",
    "\n",
    "from ipywidgets import *\n",
    "from IPython.display import display\n",
    "\n",
    "pd.set_option('display.max_columns', None)\n",
    "pd.set_option(\"display.max_rows\", None)"
   ]
  },
  {
   "cell_type": "markdown",
   "metadata": {},
   "source": [
    "### Admissions"
   ]
  },
  {
   "cell_type": "code",
   "execution_count": 2,
   "metadata": {},
   "outputs": [],
   "source": [
    "def plot_hrly_avgs(sliders, label, color):\n",
    "    ind = np.arange(24)  \n",
    "    width = 0.75  \n",
    "\n",
    "    fig, ax = plt.subplots(1, figsize=(12, 5))\n",
    "    rects1 = ax.bar(ind, [i.value for i in sliders], width, label=label, color=color)\n",
    "\n",
    "    ax.set_ylabel('avg # of patients')\n",
    "    ax.set_xlabel('hour of day')\n",
    "\n",
    "    ax.set_xticks(ind)\n",
    "    ax.legend()\n",
    "    plt.show()\n",
    "\n",
    "def hrly_avg_change(b):\n",
    "    output1.clear_output()\n",
    "    with output1:\n",
    "        plot_hrly_avgs(avg_pl_hrly_sliders, \"Planned\", \"b\")\n",
    "    \n",
    "    output2.clear_output()\n",
    "    with output2:\n",
    "        plot_hrly_avgs(avg_upl_hrly_sliders, \"Unplanned\", \"r\")"
   ]
  },
  {
   "cell_type": "code",
   "execution_count": 3,
   "metadata": {},
   "outputs": [],
   "source": [
    "avg_plan_hrly = np.array([0.2, 0.2, 0.2, 0.2, 0.2, 1.5, 2.0, 2.1, 2.2, 2.2, 3.2, 3.1, 2.1, 2.1, 2.0, 1.5, 1.4, 1.1, 1.0, 1.0, \n",
    "                             0.2, 0.2, 0.2, 0.2])\n",
    "\n",
    "avg_pl_hrly_sliders = [FloatSlider(value=n, min=0.0, max=20.0, step=0.25,  description=str(h), continuous_update=False, \n",
    "                                   orientation=\"vertical\", layout=Layout(width=\"110%\")) for n,h in zip(avg_plan_hrly, np.arange(0,24, 1))]\n",
    "\n",
    "avg_unplan_hrly = np.array([3.5, 3.1 ,2.9, 2.8, 2.64, 2.45, 2.4, 4.5, 5.9, 6.7, 6.5, 5.4, 5.6, 5.8, 5.7, 5.6, 5.3, 5.2, 5.3, 6,\n",
    "                         6.5, 5.2, 4.3, 3.9])\n",
    "\n",
    "avg_upl_hrly_sliders = [FloatSlider(value=n, min=0.0, max=30.0, step=0.25,  description=str(h), continuous_update=False, \n",
    "                                    orientation=\"vertical\", layout=Layout(width=\"100%\")) for n,h in zip(avg_unplan_hrly, np.arange(0,24, 1))]"
   ]
  },
  {
   "cell_type": "code",
   "execution_count": 4,
   "metadata": {},
   "outputs": [],
   "source": [
    "output1 = Output(wait=True)\n",
    "output2 = Output()\n",
    "\n",
    "output1.layout.height = '350px'\n",
    "output2.layout.height = '350px'\n",
    "\n",
    "_ = [i.observe(hrly_avg_change, names=['value']) for i in avg_pl_hrly_sliders]\n",
    "_ = [i.observe(hrly_avg_change, names=['value']) for i in avg_upl_hrly_sliders]"
   ]
  },
  {
   "cell_type": "code",
   "execution_count": 5,
   "metadata": {},
   "outputs": [],
   "source": [
    "center_layout = Layout(align_items=\"center\", justify_content='center')"
   ]
  },
  {
   "cell_type": "code",
   "execution_count": 6,
   "metadata": {},
   "outputs": [],
   "source": [
    "tabs = [VBox([output1, HBox(avg_pl_hrly_sliders)], layout=center_layout), \n",
    "      VBox([output2, HBox(avg_upl_hrly_sliders)], layout=center_layout)]\n",
    "\n",
    "plt_tab = Tab()\n",
    "plt_tab.children = tabs\n",
    "plt_tab.set_title(0, 'Planned Adm Hrly')\n",
    "plt_tab.set_title(1, 'Unplanned Adm Hrly')"
   ]
  },
  {
   "cell_type": "code",
   "execution_count": 7,
   "metadata": {},
   "outputs": [
    {
     "data": {
      "application/vnd.jupyter.widget-view+json": {
       "model_id": "453a9e967a91481eaec03bbed82c7d4e",
       "version_major": 2,
       "version_minor": 0
      },
      "text/plain": [
       "AppLayout(children=(VBox(children=(HTML(value='<b>Admission Statistics:</b><p>Set hourly averages for gross pl…"
      ]
     },
     "metadata": {},
     "output_type": "display_data"
    }
   ],
   "source": [
    "AppLayout(left_sidebar=VBox([HTML(value=\"<b>Admission Statistics:</b><p>Set hourly averages for gross planned and unplanned admissions </p>\")]),\n",
    "          center=plt_tab)"
   ]
  },
  {
   "cell_type": "code",
   "execution_count": 8,
   "metadata": {},
   "outputs": [],
   "source": [
    "hrly_avg_change(None)"
   ]
  },
  {
   "cell_type": "code",
   "execution_count": 9,
   "metadata": {},
   "outputs": [],
   "source": [
    "def p_los_gen(x):\n",
    "    times = []\n",
    "    for i in range(x['Unplanned']):\n",
    "        times.append(x['Datetime'] + pd.Timedelta(value=abs(round(random.normal(loc=pl_los_avg.value, scale=pl_los_std.value))), unit='hours' ))\n",
    "    return times\n",
    "    \n",
    "def up_los_gen(x):\n",
    "    times = []\n",
    "    for i in range(x['Planned']):\n",
    "        times.append(x['Datetime'] + pd.Timedelta(value=abs(round(random.normal(loc=unpl_los_avg.value, scale=unpl_los_std.value))), unit='hours' ))\n",
    "    return times \n",
    "\n",
    "def gen_los(df):\n",
    "    df['Admit'] = df['Planned'] + df['Unplanned']\n",
    "#     df = df.reset_index()\n",
    "#     df.rename(columns={'index': 'Datetime'}, inplace=True)\n",
    "    df['Datetime'] = df.index\n",
    "    \n",
    "    df['Discharge Time'] = df.apply(p_los_gen, axis=1) + df.apply(up_los_gen, axis=1)\n",
    "    df_los = df[['Datetime','Discharge Time']].explode('Discharge Time').dropna().reset_index(drop=True)\n",
    "    \n",
    "    dis = []\n",
    "    \n",
    "    for time in df['Datetime']:\n",
    "        dis.append(len(df_los['Discharge Time'][df_los['Discharge Time'] == time].tolist()))\n",
    "        \n",
    "    df['Discharge'] = dis\n",
    "    df.drop(columns=['Discharge Time'], inplace=True)\n",
    "    \n",
    "    return df"
   ]
  },
  {
   "cell_type": "code",
   "execution_count": 10,
   "metadata": {},
   "outputs": [],
   "source": [
    "def count_days(start, end):\n",
    "    if start.value and end.value:\n",
    "        delta = end.value - start.value\n",
    "        return delta.days\n",
    "\n",
    "def gen_adm_df(avg_p_sliders, avg_up_sliders, start_wid, end_wid, back=21):\n",
    "\n",
    "    num_days = count_days(start_wid, end_wid)\n",
    "    backdate = start.value - datetime.timedelta(days=back)\n",
    "    datetime_index = [pd.Timestamp((backdate + datetime.timedelta(days=day)).strftime(\"%Y-%m-%d\") + f' {hr}:00:00') for day in range(num_days+back) for hr in range(24)]\n",
    "\n",
    "    df = pd.DataFrame(columns=[\"ED Volume\", \"Unplanned\", \"Planned\"], index=datetime_index)\n",
    "\n",
    "    df['Planned'] = [(random.poisson(p.value)) for days in range(num_days+21) for p in avg_p_sliders]\n",
    "    df['ED Volume'] = [round(random.poisson(up.value)) for days in range(num_days+21) for up in avg_up_sliders]\n",
    "    df['Unplanned'] = round(df['ED Volume'] * unplan_adm_rate.value).astype(int)\n",
    "    \n",
    "    df = gen_los(df)\n",
    "    \n",
    "    df['Occupied'] = df['Admit'].cumsum() - df['Discharge'].cumsum()\n",
    "    \n",
    "    return df"
   ]
  },
  {
   "cell_type": "code",
   "execution_count": 11,
   "metadata": {},
   "outputs": [],
   "source": [
    "#### Dates selectors ####\n",
    "today = datetime.date.today()\n",
    "\n",
    "start = DatePicker( description='Begin:', disabled=False)\n",
    "start.value = today - datetime.timedelta(days=7)\n",
    "\n",
    "end = DatePicker(description='End:', disabled=False)\n",
    "end.value = today\n",
    "\n",
    "unplan_adm_rate = FloatSlider(value=0.3, min=0.0, max=1.0, step=0.05, description='(%)', continuous_update=False)"
   ]
  },
  {
   "cell_type": "code",
   "execution_count": 12,
   "metadata": {},
   "outputs": [],
   "source": [
    "#### Sliders #### \n",
    "\n",
    "num_beds = IntSlider(value=250, min=100, max=500, description='Beds',  continuous_update=False)\n",
    "\n",
    "pl_los_avg = FloatSlider(value=72.0, min=0.0, max=240.0, step=1.0,  description='avg', continuous_update=False)\n",
    "pl_los_std = FloatSlider(value=36.0, min=0.0, max=100.0, step=1.0,  description='std', continuous_update=False)\n",
    "\n",
    "unpl_los_avg = FloatSlider(value=48.0, min=0.0, max=120.0, step=1.0,  description='avg', continuous_update=False)\n",
    "unpl_los_std = FloatSlider(value=24.0, min=0.0, max=60.0, step=1.0,  description='std', continuous_update=False)"
   ]
  },
  {
   "cell_type": "code",
   "execution_count": 13,
   "metadata": {},
   "outputs": [],
   "source": [
    "def autolabel(ax, rects, xpos='center'):\n",
    "    ha = {'center': 'center', 'right': 'left', 'left': 'right'}\n",
    "    offset = {'center': 0, 'right': 1, 'left': -1}\n",
    "\n",
    "    for rect in rects:\n",
    "        height = rect.get_height()\n",
    "        ax.annotate('{}'.format(height),\n",
    "                    xy=(rect.get_x() + rect.get_width() / 2, height),\n",
    "                    xytext=(offset[xpos]*3, 3),  # use 3 points offset\n",
    "                    textcoords=\"offset points\",  # in both directions\n",
    "                    ha=ha[xpos], va='bottom')"
   ]
  },
  {
   "cell_type": "code",
   "execution_count": 14,
   "metadata": {},
   "outputs": [],
   "source": [
    "def plot_adms(df):\n",
    "    df = df[(df['Datetime'] > pd.Timestamp(start.value))]\n",
    "    ind = np.arange(df['Datetime'].dt.day.nunique())\n",
    "    width = 0.35  # the width of the bars\n",
    "\n",
    "    fig, ax = plt.subplots(figsize=(12, 7))\n",
    "    rects1 = ax.bar(ind - width/2, df['Planned'].resample('D').sum().tolist(), width, label='Planned')\n",
    "    rects2 = ax.bar(ind + width/2, df['Unplanned'].resample('D').sum().tolist(), width, label='Unplanned')\n",
    "\n",
    "    # Add some text for labels, title and custom x-axis tick labels, etc.\n",
    "    ax.set_ylabel('# of patients')\n",
    "    ax.set_title('Admissions Per Day')\n",
    "    ax.set_xticks(ind)\n",
    "    ax.set_xticklabels(np.unique(df['Datetime'].dt.date))\n",
    "    fig.autofmt_xdate()\n",
    "    ax.legend()\n",
    "\n",
    "    autolabel(ax, rects1, \"left\")\n",
    "    autolabel(ax, rects2, \"right\")\n",
    "\n",
    "    plt.show()"
   ]
  },
  {
   "cell_type": "code",
   "execution_count": 15,
   "metadata": {},
   "outputs": [],
   "source": [
    "def plot_ed_vol(df):\n",
    "    df = df[(df['Datetime'] > pd.Timestamp(start.value))]\n",
    "\n",
    "    fig, ax = plt.subplots(figsize=(18, 7))\n",
    "    bars = ax.bar(df['Datetime'], df['ED Volume'], label='ED Volume',  align='center', width=0.02)\n",
    "    \n",
    "    for bar in bars:\n",
    "        bar.set_edgecolor(\"black\")\n",
    "        bar.set_linewidth(1)\n",
    "\n",
    "\n",
    "    ax.set_ylabel('# of patients')\n",
    "    ax.set_title('ED Volume by hour')\n",
    "#     ax.set_xticks(ind)\n",
    "#     ax.set_xticklabels(np.unique(df.index.date))\n",
    "    fig.autofmt_xdate()\n",
    "    ax.legend()\n",
    "\n",
    "    plt.show()"
   ]
  },
  {
   "cell_type": "code",
   "execution_count": 16,
   "metadata": {},
   "outputs": [],
   "source": [
    "def plot_beds(df):\n",
    "    df = df[(df['Datetime'] > pd.Timestamp(start.value))]\n",
    "    max_beds = float(num_beds.value)\n",
    "    fig, ax = plt.subplots(1, figsize=(15,6))\n",
    "    ax.plot(df['Datetime'], df['Occupied'])\n",
    "    plt.axhline(y=max_beds, color='r', linestyle='-')\n",
    "    ax.set_ylabel('# of patients')\n",
    "    ax.fill_between(df['Datetime'], df['Occupied'], max_beds, where= df['Occupied'] >= max_beds, alpha=0.50,  facecolor='r', edgecolor='r', interpolate=True)\n",
    "#     ax.set_ylim(100.0, df['Occupied'].max() + 25)\n",
    "    fig.autofmt_xdate()\n",
    "    ax.legend(['Total Beds Occupied', \"Max Bed Capacity\"])\n",
    "    plt.show();\n",
    "   "
   ]
  },
  {
   "cell_type": "code",
   "execution_count": 18,
   "metadata": {},
   "outputs": [],
   "source": [
    "def plot_beds_util(df):\n",
    "    df = df[(df['Datetime'] > pd.Timestamp(start.value))]\n",
    "    max_beds = float(num_beds.value)\n",
    "    fig, ax = plt.subplots(1, figsize=(15,6))\n",
    "    percents = (df['Occupied']/max_beds)*100\n",
    "    ax.plot(df['Datetime'], percents)\n",
    "    plt.axhline(y=100, color='r', linestyle='-')\n",
    "    ax.set_ylabel('% of occupied beds')\n",
    "    ax.set_ylim(0.0, 150)\n",
    "    ax.fill_between(df['Datetime'], percents, max_beds, where= percents >= max_beds, alpha=0.50,  facecolor='r', edgecolor='r', interpolate=True)\n",
    "    fig.autofmt_xdate()\n",
    "    ax.legend([\"% of Bed Utilization\"])\n",
    "    plt.show();\n",
    "   "
   ]
  },
  {
   "cell_type": "code",
   "execution_count": null,
   "metadata": {},
   "outputs": [],
   "source": []
  },
  {
   "cell_type": "code",
   "execution_count": null,
   "metadata": {},
   "outputs": [],
   "source": []
  },
  {
   "cell_type": "code",
   "execution_count": 17,
   "metadata": {},
   "outputs": [],
   "source": [
    "# df = gen_adm_df(avg_pl_hrly_sliders, avg_upl_hrly_sliders, start, end)"
   ]
  },
  {
   "cell_type": "code",
   "execution_count": 19,
   "metadata": {},
   "outputs": [],
   "source": [
    "def bed_capacity_matrix(start, end, df1, df2, hours_back=24):\n",
    "    \n",
    "    matrix_df = pd.DataFrame() \n",
    "    num_days = count_days(start, end)\n",
    "    count=0\n",
    "    df = df1.append(df2, ignore_index=True).sort_values('admit')\n",
    "    \n",
    "    # for each day in date range\n",
    "    for day in range(num_days):\n",
    "        current_day = start.value + timedelta(days=day)\n",
    "        \n",
    "        # for each hour in 24 hour day\n",
    "        for hr in range(24):\n",
    "            \n",
    "            col = str(hr)+current_day.strftime(\" %m-%d\")\n",
    "            matrix_df.insert(count, col, None)\n",
    "            count+=1\n",
    "            current_hr = datetime(year=current_day.year, month=current_day.month, \n",
    "                                  day=current_day.day, hour=0, minute=0, second=0)  + timedelta(hours=hr)\n",
    "            patients = []\n",
    "            \n",
    "            # go hours back \n",
    "            for i in range(hours_back): \n",
    "                past = pd.Timestamp((current_hr - timedelta(hours=i)).strftime(\"%m-%d-%Y %H:%M:%S\"))\n",
    "                patients.append(len(df[(df['admit']<=past)]) - len(df[(df['discharge']<=past)]))\n",
    "                \n",
    "           \n",
    "            matrix_df[col] = patients\n",
    "                \n",
    "            \n",
    "    return matrix_df"
   ]
  },
  {
   "cell_type": "code",
   "execution_count": null,
   "metadata": {},
   "outputs": [],
   "source": []
  },
  {
   "cell_type": "code",
   "execution_count": null,
   "metadata": {},
   "outputs": [],
   "source": []
  },
  {
   "cell_type": "code",
   "execution_count": null,
   "metadata": {},
   "outputs": [],
   "source": []
  },
  {
   "cell_type": "code",
   "execution_count": 20,
   "metadata": {},
   "outputs": [],
   "source": [
    "def on_change(b):\n",
    "    df = gen_adm_df(avg_pl_hrly_sliders, avg_upl_hrly_sliders, start, end)\n",
    "    \n",
    "    output3.clear_output()\n",
    "    with output3:\n",
    "        plot_adms(df)\n",
    "    \n",
    "    output4.clear_output()\n",
    "    with output4:\n",
    "        plot_ed_vol(df)\n",
    "        \n",
    "    df = gen_los(df)\n",
    "    \n",
    "    output5.clear_output()\n",
    "    with output5:\n",
    "        plot_beds(df)\n",
    "    \n",
    "    output6.clear_output()\n",
    "    with output6:\n",
    "        plot_beds_util(df)\n",
    "    "
   ]
  },
  {
   "cell_type": "code",
   "execution_count": 21,
   "metadata": {},
   "outputs": [],
   "source": [
    "gen_button = Button(description=\"Generate Data\")\n",
    "\n",
    "output3 = Output()\n",
    "output4 = Output()\n",
    "output5 = Output()\n",
    "output6 = Output()\n",
    "\n",
    "output3.layout.height = '450px'\n",
    "output4.layout.height = '450px'\n",
    "output5.layout.height = '450px'\n",
    "output6.layout.height = '450px'\n",
    "\n",
    "gen_button.on_click(on_change)\n",
    "start.observe(on_change, names=['value'])\n",
    "end.observe(on_change, names=['value'])\n",
    "unplan_adm_rate.observe(on_change, names=['value'])\n",
    "\n",
    "\n",
    "num_beds.observe(on_change, names=['value'])\n",
    "unpl_los_avg.observe(on_change, names=['value'])\n",
    "unpl_los_std.observe(on_change, names=['value'])\n",
    "pl_los_avg.observe(on_change, names=['value'])\n",
    "pl_los_std.observe(on_change, names=['value'])"
   ]
  },
  {
   "cell_type": "code",
   "execution_count": 24,
   "metadata": {},
   "outputs": [],
   "source": [
    "tabs2 = [HBox([output3], layout=center_layout), HBox([output4], layout=center_layout)]\n",
    "tab2 = Tab()\n",
    "tab2.children = tabs2\n",
    "tab2.set_title(0, 'Admissions Per Day')\n",
    "tab2.set_title(1, 'ED Volume')"
   ]
  },
  {
   "cell_type": "code",
   "execution_count": 25,
   "metadata": {},
   "outputs": [],
   "source": [
    "l_siderbar = VBox([HTML(value=\"<b>Unplanned Admission Rate:</b>\"),unplan_adm_rate ])\n",
    "dates = HBox([start, end], layout=Layout(justify_content='center', align_items='center'))\n",
    "footer = HBox([gen_button], layout=center_layout)"
   ]
  },
  {
   "cell_type": "code",
   "execution_count": 26,
   "metadata": {},
   "outputs": [
    {
     "data": {
      "application/vnd.jupyter.widget-view+json": {
       "model_id": "e016b593f2ac4ffbadc1c05813894a07",
       "version_major": 2,
       "version_minor": 0
      },
      "text/plain": [
       "AppLayout(children=(HBox(children=(DatePicker(value=datetime.date(2020, 9, 8), description='Begin:'), DatePick…"
      ]
     },
     "metadata": {},
     "output_type": "display_data"
    }
   ],
   "source": [
    "AppLayout(header=dates,\n",
    "          left_sidebar=l_siderbar,\n",
    "          center=tab2,\n",
    "          footer=footer,\n",
    "          justify_content='center', \n",
    "          align_items='center')"
   ]
  },
  {
   "cell_type": "markdown",
   "metadata": {},
   "source": [
    "### Bed Capacity"
   ]
  },
  {
   "cell_type": "code",
   "execution_count": 27,
   "metadata": {},
   "outputs": [],
   "source": [
    "tabs3 = [HBox([output5], layout=center_layout), HBox([output6], layout=center_layout)]\n",
    "tab3 = Tab()\n",
    "tab3.children = tabs3\n",
    "tab3.set_title(0, 'Occupied Beds')\n",
    "tab3.set_title(1, 'Bed Utilization')"
   ]
  },
  {
   "cell_type": "code",
   "execution_count": 28,
   "metadata": {},
   "outputs": [],
   "source": [
    "los_sidebar = VBox([HTML(value=\"<b>Total Beds:</b>\"), num_beds,\n",
    "                    HTML(value=\"<b>Planned LOS:</b>\"), pl_los_avg, pl_los_std, \n",
    "                    HTML(value=\"<b>Unplanned LOS:</b>\"), unpl_los_avg, unpl_los_std])"
   ]
  },
  {
   "cell_type": "code",
   "execution_count": 29,
   "metadata": {},
   "outputs": [
    {
     "data": {
      "application/vnd.jupyter.widget-view+json": {
       "model_id": "074878572ce54c9c896aba6b7be81bd1",
       "version_major": 2,
       "version_minor": 0
      },
      "text/plain": [
       "AppLayout(children=(VBox(children=(HTML(value='<b>Total Beds:</b>'), IntSlider(value=275, continuous_update=Fa…"
      ]
     },
     "metadata": {},
     "output_type": "display_data"
    }
   ],
   "source": [
    "AppLayout(left_sidebar=los_sidebar, \n",
    "         center=tab3)"
   ]
  },
  {
   "cell_type": "code",
   "execution_count": 30,
   "metadata": {},
   "outputs": [],
   "source": [
    "on_change(None)"
   ]
  },
  {
   "cell_type": "code",
   "execution_count": null,
   "metadata": {},
   "outputs": [],
   "source": []
  },
  {
   "cell_type": "code",
   "execution_count": null,
   "metadata": {},
   "outputs": [],
   "source": []
  },
  {
   "cell_type": "code",
   "execution_count": null,
   "metadata": {},
   "outputs": [],
   "source": []
  }
 ],
 "metadata": {
  "kernelspec": {
   "display_name": "Python 3",
   "language": "python",
   "name": "python3"
  },
  "language_info": {
   "codemirror_mode": {
    "name": "ipython",
    "version": 3
   },
   "file_extension": ".py",
   "mimetype": "text/x-python",
   "name": "python",
   "nbconvert_exporter": "python",
   "pygments_lexer": "ipython3",
   "version": "3.8.5"
  },
  "toc": {
   "base_numbering": 1,
   "nav_menu": {},
   "number_sections": true,
   "sideBar": true,
   "skip_h1_title": false,
   "title_cell": "Table of Contents",
   "title_sidebar": "Contents",
   "toc_cell": false,
   "toc_position": {},
   "toc_section_display": true,
   "toc_window_display": false
  }
 },
 "nbformat": 4,
 "nbformat_minor": 4
}
