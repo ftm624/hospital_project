{
 "cells": [
  {
   "cell_type": "code",
   "execution_count": null,
   "metadata": {},
   "outputs": [],
   "source": [
    "import pandas as pd\n",
    "import os\n",
    "import numpy as np\n",
    "import matplotlib.pyplot as plt\n",
    "import ipywidgets as widgets\n",
    "import seaborn as sns\n",
    "\n",
    "from IPython.display import display\n",
    "from ipywidgets import interact, interactive,interact_manual, fixed, HBox, Label, VBox, GridspecLayout, Layout\n",
    "from scipy.stats import poisson\n",
    "\n",
    "\n",
    "plt.style.use('seaborn-whitegrid')\n",
    "pd.set_option('display.max_columns', 50)\n",
    "%matplotlib inline"
   ]
  },
  {
   "cell_type": "code",
   "execution_count": null,
   "metadata": {},
   "outputs": [],
   "source": [
    "# Load CSVs\n",
    "path = './data/'\n",
    "provider_profiles = pd.read_csv(path+'pp_contacts decisions.csv', index_col='Provider Profiles')\n",
    "arrivals = pd.read_csv(path+'dp_arrivals.csv')\n",
    "other = pd.read_csv(path+'dp_other.csv')\n",
    "rooms = pd.read_csv(path+'dp_rooms.csv')\n",
    "wRVU = pd.read_csv(path+'dp_wRVU.csv')\n",
    "\n",
    "arrivals['Date'].fillna(value='Week Average', axis=0, inplace=True)\n",
    "rooms['Date'].fillna(value='Week Average', axis=0, inplace=True)"
   ]
  },
  {
   "cell_type": "markdown",
   "metadata": {},
   "source": [
    "# Arrival Distributions"
   ]
  },
  {
   "cell_type": "code",
   "execution_count": null,
   "metadata": {},
   "outputs": [],
   "source": [
    "A_averages = arrivals[['12:00:00 AM',\n",
    "       '01:00:00 AM', '02:00:00 AM', '03:00:00 AM', '04:00:00 AM',\n",
    "       '05:00:00 AM', '06:00:00 AM', '07:00:00 AM', '08:00:00 AM',\n",
    "       '09:00:00 AM', '10:00:00 AM', '11:00:00 AM', '12:00:00 PM',\n",
    "       '01:00:00 PM', '02:00:00 PM', '03:00:00 PM', '04:00:00 PM',\n",
    "       '05:00:00 PM', '06:00:00 PM', '07:00:00 PM', '08:00:00 PM',\n",
    "       '09:00:00 PM', '10:00:00 PM', '11:00:00 PM']].iloc[0].tolist()"
   ]
  },
  {
   "cell_type": "code",
   "execution_count": null,
   "metadata": {},
   "outputs": [],
   "source": [
    "arrivalsT = arrivals.copy()\n",
    "arrivalsT.drop(columns=['Year', 'Event'], axis=0, inplace=True)\n",
    "new_cols = arrivalsT['Department Profile'].values + '_' +  arrivalsT['Date'].values\n",
    "arrivalsT = arrivalsT.transpose()\n",
    "arrivalsT.columns = new_cols\n",
    "arrivalsT.drop(['Department Profile','Date'], axis=0, inplace=True)\n",
    "arrivalsT.head(3)"
   ]
  },
  {
   "cell_type": "markdown",
   "metadata": {},
   "source": [
    "### Arrivals per hour by Day"
   ]
  },
  {
   "cell_type": "code",
   "execution_count": null,
   "metadata": {},
   "outputs": [],
   "source": [
    "ax = arrivalsT.plot(kind='line', y=arrivalsT.columns, use_index=True, xticks=[x for x in range(0,24)], legend=False,figsize=(20,10))\n",
    "ax.set_xticklabels(arrivalsT.index.tolist(), rotation=50);"
   ]
  },
  {
   "cell_type": "markdown",
   "metadata": {},
   "source": [
    "### Interactive Arrivals per Hour"
   ]
  },
  {
   "cell_type": "code",
   "execution_count": null,
   "metadata": {},
   "outputs": [],
   "source": [
    "@interact\n",
    "def scatter_plot(y=list(arrivalsT.columns)):\n",
    "    ax = arrivalsT.plot(kind='line', y=y, use_index=True, xticks=[x for x in range(0,24)], figsize=(20,10));\n",
    "    ax.set_xticklabels(arrivalsT.index.tolist(), rotation=50)"
   ]
  },
  {
   "cell_type": "code",
   "execution_count": null,
   "metadata": {},
   "outputs": [],
   "source": []
  },
  {
   "cell_type": "code",
   "execution_count": null,
   "metadata": {},
   "outputs": [],
   "source": []
  },
  {
   "cell_type": "markdown",
   "metadata": {},
   "source": [
    "### Arrival Probability: Poisson Distribution"
   ]
  },
  {
   "cell_type": "markdown",
   "metadata": {},
   "source": [
    "The Poisson Process is a model for infrequent events — where we know the average time between events but the actual time between any two events is randomly distributed (stochastic). Each event is independent of all other events, which means we can’t use the time since the last event to predict when the next event will occur. A Poisson model is an extension of a binomial model to situations where the number of expected successes is much less than the number of trials."
   ]
  },
  {
   "cell_type": "code",
   "execution_count": null,
   "metadata": {},
   "outputs": [],
   "source": [
    "arrivals[arrivals['Department Profile']=='A']"
   ]
  },
  {
   "cell_type": "code",
   "execution_count": null,
   "metadata": {},
   "outputs": [],
   "source": [
    "@interact\n",
    "def poission(times=arrivalsT['A_Week Average']):\n",
    "    mu = times\n",
    "    mean, var, skew, kurt = poisson.stats(mu, moments='mvsk')\n",
    "    low = poisson.ppf(0.01, mu)\n",
    "    high = poisson.ppf(0.99, mu)\n",
    "    x = np.arange(low,high)\n",
    "    y = poisson.pmf(x, mu)\n",
    "    fig, ax = plt.subplots(1, 1, figsize=(20,10))\n",
    "    ax.plot(x, y , 'bo', ms=14, label='poisson pmf');\n",
    "    ax.vlines(x, 0, y, colors='b', lw=5, alpha=0.3);"
   ]
  },
  {
   "cell_type": "code",
   "execution_count": null,
   "metadata": {},
   "outputs": [],
   "source": []
  },
  {
   "cell_type": "markdown",
   "metadata": {},
   "source": [
    "### Average Hourly Provider Contacts and Decisions"
   ]
  },
  {
   "cell_type": "code",
   "execution_count": null,
   "metadata": {},
   "outputs": [],
   "source": [
    "aver_contacts = []\n",
    "aver_decs = []\n",
    "for i in provider_profiles.columns:\n",
    "    if i.startswith('Con'):\n",
    "        aver_contacts.append(provider_profiles[i].mean())\n",
    "    if i.startswith('Dec'):\n",
    "        aver_decs.append(provider_profiles[i].mean())\n",
    "        \n",
    "contacts = pd.DataFrame(columns=['Contact', 'Decisions'])\n",
    "contacts['Contact'] = aver_contacts\n",
    "contacts['Decisions'] = aver_decs"
   ]
  },
  {
   "cell_type": "code",
   "execution_count": null,
   "metadata": {},
   "outputs": [],
   "source": [
    "plt.figure(figsize=(16, 6))\n",
    "plot = sns.lineplot(data=contacts, palette=\"tab10\", linewidth=3.5)\n",
    "plot.set(xlabel='Hour', ylabel='Average')\n",
    "plt.title(\"Average Hourly Provider Contacts and Decisions\");"
   ]
  },
  {
   "cell_type": "code",
   "execution_count": null,
   "metadata": {},
   "outputs": [],
   "source": []
  },
  {
   "cell_type": "markdown",
   "metadata": {},
   "source": [
    "### Optimizer"
   ]
  },
  {
   "cell_type": "code",
   "execution_count": null,
   "metadata": {},
   "outputs": [],
   "source": [
    "\n",
    "N_samples = 25\n",
    "x=np.linspace(-2,2,N_samples)\n",
    "\n",
    "def f(x,a,mu,sigma):\n",
    "    r=a*np.exp(-(x-mu)**2/(2*sigma**2))\n",
    "    return (r)\n",
    "def func(amplitude,ideal_mu,ideal_sigma,noise_sd,noise_mean):\n",
    "    r=amplitude*np.exp(-(x-ideal_mu)**2/(2*ideal_sigma**2))\n",
    "    plt.figure(figsize=(8,5))\n",
    "    plt.plot(x,r,c='k',lw=3)\n",
    "    r= r+np.random.normal(loc=noise_mean,scale=noise_sd,size=N_samples)\n",
    "    plt.scatter(x,r,edgecolors='k',c='yellow',s=60)\n",
    "    plt.grid(True)\n",
    "    plt.show()\n",
    "    return (r)\n",
    "y=interactive(func,amplitude=[1,2,3,4,5],ideal_mu=(-5,5,0.5),\n",
    "              ideal_sigma=(0,2,0.2),\n",
    "              noise_sd=(0,1,0.1),noise_mean=(-1,1,0.2))\n",
    "display(y)\n"
   ]
  },
  {
   "cell_type": "code",
   "execution_count": null,
   "metadata": {},
   "outputs": [],
   "source": []
  },
  {
   "cell_type": "code",
   "execution_count": null,
   "metadata": {},
   "outputs": [],
   "source": []
  },
  {
   "cell_type": "code",
   "execution_count": null,
   "metadata": {},
   "outputs": [],
   "source": []
  },
  {
   "cell_type": "code",
   "execution_count": null,
   "metadata": {},
   "outputs": [],
   "source": []
  },
  {
   "cell_type": "code",
   "execution_count": null,
   "metadata": {},
   "outputs": [],
   "source": []
  },
  {
   "cell_type": "code",
   "execution_count": null,
   "metadata": {},
   "outputs": [],
   "source": []
  }
 ],
 "metadata": {
  "kernelspec": {
   "display_name": "Python 3",
   "language": "python",
   "name": "python3"
  },
  "language_info": {
   "codemirror_mode": {
    "name": "ipython",
    "version": 3
   },
   "file_extension": ".py",
   "mimetype": "text/x-python",
   "name": "python",
   "nbconvert_exporter": "python",
   "pygments_lexer": "ipython3",
   "version": "3.7.4"
  }
 },
 "nbformat": 4,
 "nbformat_minor": 2
}
