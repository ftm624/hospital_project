{
 "cells": [
  {
   "cell_type": "markdown",
   "metadata": {},
   "source": [
    "# Core Problems for Staffing"
   ]
  },
  {
   "cell_type": "markdown",
   "metadata": {},
   "source": [
    "- Staffing to eliminate peak loads entirely will put you out of business...\n",
    "- Failing to staff to minimize peak loads will put you out of your contract..."
   ]
  },
  {
   "cell_type": "markdown",
   "metadata": {},
   "source": [
    "<img src=\"./imgs/patient%20arrivals.png\" width=\"500\">"
   ]
  },
  {
   "cell_type": "markdown",
   "metadata": {},
   "source": [
    "<img src=\"./imgs/demand.png\" width=\"600\">"
   ]
  },
  {
   "cell_type": "markdown",
   "metadata": {},
   "source": [
    "## 1. Staffing Optimization:"
   ]
  },
  {
   "cell_type": "code",
   "execution_count": null,
   "metadata": {},
   "outputs": [],
   "source": []
  },
  {
   "cell_type": "markdown",
   "metadata": {},
   "source": [
    "## 2. Demand Forecasting: \n",
    "\n",
    "__Using data to predict patient arrivals__"
   ]
  },
  {
   "cell_type": "markdown",
   "metadata": {},
   "source": [
    "__Demand Forecasting__ is the process in which historical sales data is used to develop an estimate of an expected forecast of (patient) demand. For hospitals, Demand Forecasting provides an estimate of the patient inflow in the foreseeable future. Critical assumptions about staffing, turnover, profit margins, cash flow, capital expenditure, risk assessment and mitigation plans, capacity planning, etc. are dependent on Demand Forecasting."
   ]
  },
  {
   "cell_type": "markdown",
   "metadata": {},
   "source": [
    "Goals:\n",
    "\n",
    "1. Model patient inflows based on historic data\n",
    "2. Recommend staffing schedules based on the forecasted patient demand"
   ]
  },
  {
   "cell_type": "markdown",
   "metadata": {},
   "source": [
    "An Automated Predictive Application to Forecast Patient Demand \n",
    "\n",
    "Demand forecasting is typically performed by looking back at historical patient demand data and projecting trend lines with a seasonal adjustment. \n",
    "\n",
    "Better anticipate patient demand by building and implementing a patient forecasting system application. "
   ]
  },
  {
   "cell_type": "markdown",
   "metadata": {},
   "source": [
    "General Pipeline:\n",
    "\n",
    "1. First, the app will automatically compile and process internal historical data, as well as external datasets such as weather, national epidemics, holidays, and traffic. \n",
    "2. Then, a machine-learning algorithm builds a statistical model that forecasts patient demand; this prediction is continually improved as new data is incorporated into the model. \n",
    "3. Finally, an API links the predictive model to the staffing schedule system. Staffing managers therefore have updated staffing suggestions in their scheduling tool based on time, date, and department.\n"
   ]
  },
  {
   "cell_type": "markdown",
   "metadata": {},
   "source": [
    "### ARIMA"
   ]
  },
  {
   "cell_type": "markdown",
   "metadata": {},
   "source": [
    "ARIMA stands for __AutoRegressive Integrated Moving Average__ \n",
    "\n",
    "It is a class of model that captures a suite of different standard temporal structures in time series data.\n",
    "\n",
    "__AR: Autoregression__ A model that uses the dependent relationship between an observation and some number of lagged observations.\n",
    "\n",
    "__I: Integrated__ The use of differencing of raw observations (e.g. subtracting an observation from an observation at the previous time step) in order to make the time series stationary.\n",
    "\n",
    "__MA: Moving Average__ A model that uses the dependency between an observation and a residual error from a moving average model applied to lagged observations.\n"
   ]
  },
  {
   "cell_type": "code",
   "execution_count": null,
   "metadata": {},
   "outputs": [],
   "source": []
  },
  {
   "cell_type": "code",
   "execution_count": null,
   "metadata": {},
   "outputs": [],
   "source": []
  },
  {
   "cell_type": "code",
   "execution_count": null,
   "metadata": {},
   "outputs": [],
   "source": []
  },
  {
   "cell_type": "markdown",
   "metadata": {},
   "source": [
    "### Provider Profile"
   ]
  },
  {
   "cell_type": "markdown",
   "metadata": {},
   "source": [
    "- How many patients per hour?\n",
    "- Decisions: discharge / admittance per hour of shift"
   ]
  },
  {
   "cell_type": "code",
   "execution_count": null,
   "metadata": {},
   "outputs": [],
   "source": []
  },
  {
   "cell_type": "markdown",
   "metadata": {},
   "source": [
    "### Patient Data"
   ]
  },
  {
   "cell_type": "markdown",
   "metadata": {},
   "source": [
    "__RVU__\n",
    "\n",
    "Medicare uses a physician fee schedule to determine payments\n",
    "for over 7,500 physician services. The fee for each service\n",
    "depends on its relative value units (RVUs), which rank on a\n",
    "common scale the resources used to provide each service. These\n",
    "resources include the physician’s work, the expenses of the\n",
    "physician’s practice, and professional liability insurance. To\n",
    "determine the Medicare fee, a service’s RVUs are multiplied by a\n",
    "dollar conversion factor.\n",
    "1 Estimating and updating the RVUs is\n",
    "a labor-intensive process because there are no readily available,\n",
    "up-to-date data on the resource requirements of each service. "
   ]
  },
  {
   "cell_type": "code",
   "execution_count": null,
   "metadata": {},
   "outputs": [],
   "source": []
  },
  {
   "cell_type": "code",
   "execution_count": null,
   "metadata": {},
   "outputs": [],
   "source": []
  },
  {
   "cell_type": "code",
   "execution_count": null,
   "metadata": {},
   "outputs": [],
   "source": []
  },
  {
   "cell_type": "code",
   "execution_count": null,
   "metadata": {},
   "outputs": [],
   "source": []
  },
  {
   "cell_type": "code",
   "execution_count": null,
   "metadata": {},
   "outputs": [],
   "source": []
  }
 ],
 "metadata": {
  "kernelspec": {
   "display_name": "Python 3",
   "language": "python",
   "name": "python3"
  },
  "language_info": {
   "codemirror_mode": {
    "name": "ipython",
    "version": 3
   },
   "file_extension": ".py",
   "mimetype": "text/x-python",
   "name": "python",
   "nbconvert_exporter": "python",
   "pygments_lexer": "ipython3",
   "version": "3.7.4"
  }
 },
 "nbformat": 4,
 "nbformat_minor": 2
}
